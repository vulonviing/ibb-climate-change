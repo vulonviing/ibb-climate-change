{
 "cells": [
  {
   "cell_type": "code",
   "execution_count": 1,
   "id": "a902f5e8-c7dd-4ea3-8fcf-2726aaba774c",
   "metadata": {
    "tags": []
   },
   "outputs": [],
   "source": [
    "import json\n",
    "import json\n",
    "import requests\n",
    "import pandas as pd"
   ]
  },
  {
   "cell_type": "code",
   "execution_count": null,
   "id": "896bd995-9838-4efd-a000-dd81039e4566",
   "metadata": {},
   "outputs": [],
   "source": [
    "# JSON dosyasını oku\n",
    "with open('weather datas turkey/weather_data_Istanbul.json', 'r') as json_file:\n",
    "    data = json.load(json_file)\n",
    "\n",
    "# DataFrame oluştur\n",
    "weather_data = data['data']['weather']\n",
    "dftemp = pd.json_normalize(weather_data).drop(columns=[\"hourly\",\"astronomy\"])  # JSON içindeki verileri DataFrame'e dönüştür\n",
    "dfastronomy = pd.json_normalize(weather_data, record_path='astronomy', meta=['date'])\n",
    "dtemp_hourly = pd.json_normalize(weather_data, record_path='hourly', meta=['date'])\n",
    "dftemp[\"City\"] = \"Istanbul\"\n",
    "dfastronomy[\"City\"] = \"Istanbul\"\n",
    "dtemp_hourly[\"City\"] = \"Istanbul\""
   ]
  }
 ],
 "metadata": {
  "kernelspec": {
   "display_name": "Python 3 (ipykernel)",
   "language": "python",
   "name": "python3"
  },
  "language_info": {
   "codemirror_mode": {
    "name": "ipython",
    "version": 3
   },
   "file_extension": ".py",
   "mimetype": "text/x-python",
   "name": "python",
   "nbconvert_exporter": "python",
   "pygments_lexer": "ipython3",
   "version": "3.7.9"
  }
 },
 "nbformat": 4,
 "nbformat_minor": 5
}
