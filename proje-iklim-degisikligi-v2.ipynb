{
 "cells": [
  {
   "cell_type": "code",
   "execution_count": 1,
   "id": "a902f5e8-c7dd-4ea3-8fcf-2726aaba774c",
   "metadata": {
    "tags": []
   },
   "outputs": [],
   "source": [
    "import json\n",
    "import json\n",
    "import requests\n",
    "import pandas as pd\n",
    "import matplotlib.pyplot as plt\n",
    "import seaborn as sns\n",
    "from datetime import datetime"
   ]
  },
  {
   "cell_type": "markdown",
   "id": "33e9e009-56b2-4d19-b8b0-3eec1ddf65c8",
   "metadata": {
    "tags": []
   },
   "source": [
    "# ISTANBUL ÇALIŞMASI"
   ]
  },
  {
   "cell_type": "raw",
   "id": "327c8226-8c4b-43fd-ad8b-692a4308ec58",
   "metadata": {
    "tags": []
   },
   "source": [
    "# JSON dosyalarının dosya adlarına göre ülke ve şehir colunmlarını ekliyorum.\n",
    "import os\n",
    "import json\n",
    "import pandas as pd\n",
    "\n",
    "folder_path = 'weather datas turkey/'\n",
    "\n",
    "# Boş DataFrame'ler oluşturuyoruz\n",
    "dftemp_hourly_all = pd.DataFrame()\n",
    "dfastronomy_all = pd.DataFrame()\n",
    "dftemp_all = pd.DataFrame()\n",
    "\n",
    "# Klasördeki dosya adlarını döngüyle geziyoruz\n",
    "for filename in os.listdir(folder_path):\n",
    "    if filename.startswith('weather_data_') and filename.endswith('.json'):\n",
    "        country, city = filename.split('_')[2], filename.split('_')[3]\n",
    "        \n",
    "        with open(os.path.join(folder_path, filename), 'r') as json_file:\n",
    "            data = json.load(json_file)\n",
    "            weather_data = data['data']['weather']\n",
    "            \n",
    "            dftemp = pd.json_normalize(weather_data).drop(columns=[\"hourly\",\"astronomy\"])\n",
    "            dftemp[\"City\"] = city\n",
    "            dftemp[\"Country\"] = country\n",
    "            \n",
    "            dfastronomy = pd.json_normalize(weather_data, record_path='astronomy', meta=['date'])\n",
    "            dfastronomy[\"City\"] = city\n",
    "            dfastronomy[\"Country\"] = country\n",
    "            \n",
    "            dtemp_hourly = pd.json_normalize(weather_data, record_path='hourly', meta=['date'])\n",
    "            dtemp_hourly[\"City\"] = city\n",
    "            dtemp_hourly[\"Country\"] = country\n",
    "            \n",
    "            # Oluşturduğumuz DataFrame'leri birleştirmiyoruz, ayrı ayrı saklıyoruz\n",
    "            dftemp_hourly_all = pd.concat([dftemp_hourly_all, dtemp_hourly], ignore_index=True)\n",
    "            dfastronomy_all = pd.concat([dfastronomy_all, dfastronomy], ignore_index=True)\n",
    "            dftemp_all = pd.concat([dftemp_all, dftemp], ignore_index=True)"
   ]
  },
  {
   "cell_type": "code",
   "execution_count": 2,
   "id": "9702ffee-b695-4359-a269-c7b1f24f28de",
   "metadata": {
    "tags": []
   },
   "outputs": [
    {
     "ename": "FileNotFoundError",
     "evalue": "[Errno 2] No such file or directory: 'C:\\\\Users\\\\emrecan.ulu.DESKTOP-4T87DPH\\\\Desktop\\\\türkiye\\\\türkiye_monthly.csv'",
     "output_type": "error",
     "traceback": [
      "\u001b[1;31m---------------------------------------------------------------------------\u001b[0m",
      "\u001b[1;31mFileNotFoundError\u001b[0m                         Traceback (most recent call last)",
      "\u001b[1;32m~\\AppData\\Local\\Temp\\ipykernel_30220\\3171511445.py\u001b[0m in \u001b[0;36m<cell line: 1>\u001b[1;34m()\u001b[0m\n\u001b[1;32m----> 1\u001b[1;33m \u001b[0mistanbul\u001b[0m \u001b[1;33m=\u001b[0m \u001b[0mpd\u001b[0m\u001b[1;33m.\u001b[0m\u001b[0mread_csv\u001b[0m\u001b[1;33m(\u001b[0m\u001b[1;34mr\"C:\\Users\\emrecan.ulu.DESKTOP-4T87DPH\\Desktop\\türkiye\\türkiye_monthly.csv\"\u001b[0m\u001b[1;33m)\u001b[0m\u001b[1;33m\u001b[0m\u001b[1;33m\u001b[0m\u001b[0m\n\u001b[0m\u001b[0;32m      2\u001b[0m \u001b[0mistanbul\u001b[0m \u001b[1;33m=\u001b[0m \u001b[0mistanbul\u001b[0m\u001b[1;33m.\u001b[0m\u001b[0mdrop\u001b[0m\u001b[1;33m(\u001b[0m\u001b[0mcolumns\u001b[0m\u001b[1;33m=\u001b[0m\u001b[1;33m(\u001b[0m\u001b[1;34m\"index\"\u001b[0m\u001b[1;33m)\u001b[0m\u001b[1;33m)\u001b[0m\u001b[1;33m\u001b[0m\u001b[1;33m\u001b[0m\u001b[0m\n\u001b[0;32m      3\u001b[0m \u001b[0mistanbul\u001b[0m \u001b[1;33m=\u001b[0m \u001b[0mistanbul\u001b[0m\u001b[1;33m.\u001b[0m\u001b[0mdrop\u001b[0m\u001b[1;33m(\u001b[0m\u001b[0mcolumns\u001b[0m\u001b[1;33m=\u001b[0m\u001b[1;33m(\u001b[0m\u001b[1;34m\"Unnamed: 0\"\u001b[0m\u001b[1;33m)\u001b[0m\u001b[1;33m)\u001b[0m\u001b[1;33m\u001b[0m\u001b[1;33m\u001b[0m\u001b[0m\n\u001b[0;32m      4\u001b[0m \u001b[0mistanbul\u001b[0m \u001b[1;33m=\u001b[0m \u001b[0mistanbul\u001b[0m\u001b[1;33m.\u001b[0m\u001b[0mloc\u001b[0m\u001b[1;33m[\u001b[0m\u001b[0mistanbul\u001b[0m\u001b[1;33m.\u001b[0m\u001b[0mcity\u001b[0m \u001b[1;33m==\u001b[0m \u001b[1;34m\"İstanbul\"\u001b[0m\u001b[1;33m]\u001b[0m\u001b[1;33m\u001b[0m\u001b[1;33m\u001b[0m\u001b[0m\n\u001b[0;32m      5\u001b[0m \u001b[0mistanbul\u001b[0m\u001b[1;33m.\u001b[0m\u001b[0mreset_index\u001b[0m\u001b[1;33m(\u001b[0m\u001b[0mdrop\u001b[0m\u001b[1;33m=\u001b[0m\u001b[1;32mTrue\u001b[0m\u001b[1;33m,\u001b[0m \u001b[0minplace\u001b[0m\u001b[1;33m=\u001b[0m\u001b[1;32mTrue\u001b[0m\u001b[1;33m)\u001b[0m\u001b[1;33m\u001b[0m\u001b[1;33m\u001b[0m\u001b[0m\n",
      "\u001b[1;32m~\\AppData\\Local\\Programs\\Python\\Python39\\lib\\site-packages\\pandas\\util\\_decorators.py\u001b[0m in \u001b[0;36mwrapper\u001b[1;34m(*args, **kwargs)\u001b[0m\n\u001b[0;32m    209\u001b[0m                 \u001b[1;32melse\u001b[0m\u001b[1;33m:\u001b[0m\u001b[1;33m\u001b[0m\u001b[1;33m\u001b[0m\u001b[0m\n\u001b[0;32m    210\u001b[0m                     \u001b[0mkwargs\u001b[0m\u001b[1;33m[\u001b[0m\u001b[0mnew_arg_name\u001b[0m\u001b[1;33m]\u001b[0m \u001b[1;33m=\u001b[0m \u001b[0mnew_arg_value\u001b[0m\u001b[1;33m\u001b[0m\u001b[1;33m\u001b[0m\u001b[0m\n\u001b[1;32m--> 211\u001b[1;33m             \u001b[1;32mreturn\u001b[0m \u001b[0mfunc\u001b[0m\u001b[1;33m(\u001b[0m\u001b[1;33m*\u001b[0m\u001b[0margs\u001b[0m\u001b[1;33m,\u001b[0m \u001b[1;33m**\u001b[0m\u001b[0mkwargs\u001b[0m\u001b[1;33m)\u001b[0m\u001b[1;33m\u001b[0m\u001b[1;33m\u001b[0m\u001b[0m\n\u001b[0m\u001b[0;32m    212\u001b[0m \u001b[1;33m\u001b[0m\u001b[0m\n\u001b[0;32m    213\u001b[0m         \u001b[1;32mreturn\u001b[0m \u001b[0mcast\u001b[0m\u001b[1;33m(\u001b[0m\u001b[0mF\u001b[0m\u001b[1;33m,\u001b[0m \u001b[0mwrapper\u001b[0m\u001b[1;33m)\u001b[0m\u001b[1;33m\u001b[0m\u001b[1;33m\u001b[0m\u001b[0m\n",
      "\u001b[1;32m~\\AppData\\Local\\Programs\\Python\\Python39\\lib\\site-packages\\pandas\\util\\_decorators.py\u001b[0m in \u001b[0;36mwrapper\u001b[1;34m(*args, **kwargs)\u001b[0m\n\u001b[0;32m    329\u001b[0m                     \u001b[0mstacklevel\u001b[0m\u001b[1;33m=\u001b[0m\u001b[0mfind_stack_level\u001b[0m\u001b[1;33m(\u001b[0m\u001b[1;33m)\u001b[0m\u001b[1;33m,\u001b[0m\u001b[1;33m\u001b[0m\u001b[1;33m\u001b[0m\u001b[0m\n\u001b[0;32m    330\u001b[0m                 )\n\u001b[1;32m--> 331\u001b[1;33m             \u001b[1;32mreturn\u001b[0m \u001b[0mfunc\u001b[0m\u001b[1;33m(\u001b[0m\u001b[1;33m*\u001b[0m\u001b[0margs\u001b[0m\u001b[1;33m,\u001b[0m \u001b[1;33m**\u001b[0m\u001b[0mkwargs\u001b[0m\u001b[1;33m)\u001b[0m\u001b[1;33m\u001b[0m\u001b[1;33m\u001b[0m\u001b[0m\n\u001b[0m\u001b[0;32m    332\u001b[0m \u001b[1;33m\u001b[0m\u001b[0m\n\u001b[0;32m    333\u001b[0m         \u001b[1;31m# error: \"Callable[[VarArg(Any), KwArg(Any)], Any]\" has no\u001b[0m\u001b[1;33m\u001b[0m\u001b[1;33m\u001b[0m\u001b[0m\n",
      "\u001b[1;32m~\\AppData\\Local\\Programs\\Python\\Python39\\lib\\site-packages\\pandas\\io\\parsers\\readers.py\u001b[0m in \u001b[0;36mread_csv\u001b[1;34m(filepath_or_buffer, sep, delimiter, header, names, index_col, usecols, squeeze, prefix, mangle_dupe_cols, dtype, engine, converters, true_values, false_values, skipinitialspace, skiprows, skipfooter, nrows, na_values, keep_default_na, na_filter, verbose, skip_blank_lines, parse_dates, infer_datetime_format, keep_date_col, date_parser, dayfirst, cache_dates, iterator, chunksize, compression, thousands, decimal, lineterminator, quotechar, quoting, doublequote, escapechar, comment, encoding, encoding_errors, dialect, error_bad_lines, warn_bad_lines, on_bad_lines, delim_whitespace, low_memory, memory_map, float_precision, storage_options)\u001b[0m\n\u001b[0;32m    948\u001b[0m     \u001b[0mkwds\u001b[0m\u001b[1;33m.\u001b[0m\u001b[0mupdate\u001b[0m\u001b[1;33m(\u001b[0m\u001b[0mkwds_defaults\u001b[0m\u001b[1;33m)\u001b[0m\u001b[1;33m\u001b[0m\u001b[1;33m\u001b[0m\u001b[0m\n\u001b[0;32m    949\u001b[0m \u001b[1;33m\u001b[0m\u001b[0m\n\u001b[1;32m--> 950\u001b[1;33m     \u001b[1;32mreturn\u001b[0m \u001b[0m_read\u001b[0m\u001b[1;33m(\u001b[0m\u001b[0mfilepath_or_buffer\u001b[0m\u001b[1;33m,\u001b[0m \u001b[0mkwds\u001b[0m\u001b[1;33m)\u001b[0m\u001b[1;33m\u001b[0m\u001b[1;33m\u001b[0m\u001b[0m\n\u001b[0m\u001b[0;32m    951\u001b[0m \u001b[1;33m\u001b[0m\u001b[0m\n\u001b[0;32m    952\u001b[0m \u001b[1;33m\u001b[0m\u001b[0m\n",
      "\u001b[1;32m~\\AppData\\Local\\Programs\\Python\\Python39\\lib\\site-packages\\pandas\\io\\parsers\\readers.py\u001b[0m in \u001b[0;36m_read\u001b[1;34m(filepath_or_buffer, kwds)\u001b[0m\n\u001b[0;32m    603\u001b[0m \u001b[1;33m\u001b[0m\u001b[0m\n\u001b[0;32m    604\u001b[0m     \u001b[1;31m# Create the parser.\u001b[0m\u001b[1;33m\u001b[0m\u001b[1;33m\u001b[0m\u001b[0m\n\u001b[1;32m--> 605\u001b[1;33m     \u001b[0mparser\u001b[0m \u001b[1;33m=\u001b[0m \u001b[0mTextFileReader\u001b[0m\u001b[1;33m(\u001b[0m\u001b[0mfilepath_or_buffer\u001b[0m\u001b[1;33m,\u001b[0m \u001b[1;33m**\u001b[0m\u001b[0mkwds\u001b[0m\u001b[1;33m)\u001b[0m\u001b[1;33m\u001b[0m\u001b[1;33m\u001b[0m\u001b[0m\n\u001b[0m\u001b[0;32m    606\u001b[0m \u001b[1;33m\u001b[0m\u001b[0m\n\u001b[0;32m    607\u001b[0m     \u001b[1;32mif\u001b[0m \u001b[0mchunksize\u001b[0m \u001b[1;32mor\u001b[0m \u001b[0miterator\u001b[0m\u001b[1;33m:\u001b[0m\u001b[1;33m\u001b[0m\u001b[1;33m\u001b[0m\u001b[0m\n",
      "\u001b[1;32m~\\AppData\\Local\\Programs\\Python\\Python39\\lib\\site-packages\\pandas\\io\\parsers\\readers.py\u001b[0m in \u001b[0;36m__init__\u001b[1;34m(self, f, engine, **kwds)\u001b[0m\n\u001b[0;32m   1440\u001b[0m \u001b[1;33m\u001b[0m\u001b[0m\n\u001b[0;32m   1441\u001b[0m         \u001b[0mself\u001b[0m\u001b[1;33m.\u001b[0m\u001b[0mhandles\u001b[0m\u001b[1;33m:\u001b[0m \u001b[0mIOHandles\u001b[0m \u001b[1;33m|\u001b[0m \u001b[1;32mNone\u001b[0m \u001b[1;33m=\u001b[0m \u001b[1;32mNone\u001b[0m\u001b[1;33m\u001b[0m\u001b[1;33m\u001b[0m\u001b[0m\n\u001b[1;32m-> 1442\u001b[1;33m         \u001b[0mself\u001b[0m\u001b[1;33m.\u001b[0m\u001b[0m_engine\u001b[0m \u001b[1;33m=\u001b[0m \u001b[0mself\u001b[0m\u001b[1;33m.\u001b[0m\u001b[0m_make_engine\u001b[0m\u001b[1;33m(\u001b[0m\u001b[0mf\u001b[0m\u001b[1;33m,\u001b[0m \u001b[0mself\u001b[0m\u001b[1;33m.\u001b[0m\u001b[0mengine\u001b[0m\u001b[1;33m)\u001b[0m\u001b[1;33m\u001b[0m\u001b[1;33m\u001b[0m\u001b[0m\n\u001b[0m\u001b[0;32m   1443\u001b[0m \u001b[1;33m\u001b[0m\u001b[0m\n\u001b[0;32m   1444\u001b[0m     \u001b[1;32mdef\u001b[0m \u001b[0mclose\u001b[0m\u001b[1;33m(\u001b[0m\u001b[0mself\u001b[0m\u001b[1;33m)\u001b[0m \u001b[1;33m->\u001b[0m \u001b[1;32mNone\u001b[0m\u001b[1;33m:\u001b[0m\u001b[1;33m\u001b[0m\u001b[1;33m\u001b[0m\u001b[0m\n",
      "\u001b[1;32m~\\AppData\\Local\\Programs\\Python\\Python39\\lib\\site-packages\\pandas\\io\\parsers\\readers.py\u001b[0m in \u001b[0;36m_make_engine\u001b[1;34m(self, f, engine)\u001b[0m\n\u001b[0;32m   1733\u001b[0m                 \u001b[1;32mif\u001b[0m \u001b[1;34m\"b\"\u001b[0m \u001b[1;32mnot\u001b[0m \u001b[1;32min\u001b[0m \u001b[0mmode\u001b[0m\u001b[1;33m:\u001b[0m\u001b[1;33m\u001b[0m\u001b[1;33m\u001b[0m\u001b[0m\n\u001b[0;32m   1734\u001b[0m                     \u001b[0mmode\u001b[0m \u001b[1;33m+=\u001b[0m \u001b[1;34m\"b\"\u001b[0m\u001b[1;33m\u001b[0m\u001b[1;33m\u001b[0m\u001b[0m\n\u001b[1;32m-> 1735\u001b[1;33m             self.handles = get_handle(\n\u001b[0m\u001b[0;32m   1736\u001b[0m                 \u001b[0mf\u001b[0m\u001b[1;33m,\u001b[0m\u001b[1;33m\u001b[0m\u001b[1;33m\u001b[0m\u001b[0m\n\u001b[0;32m   1737\u001b[0m                 \u001b[0mmode\u001b[0m\u001b[1;33m,\u001b[0m\u001b[1;33m\u001b[0m\u001b[1;33m\u001b[0m\u001b[0m\n",
      "\u001b[1;32m~\\AppData\\Local\\Programs\\Python\\Python39\\lib\\site-packages\\pandas\\io\\common.py\u001b[0m in \u001b[0;36mget_handle\u001b[1;34m(path_or_buf, mode, encoding, compression, memory_map, is_text, errors, storage_options)\u001b[0m\n\u001b[0;32m    854\u001b[0m         \u001b[1;32mif\u001b[0m \u001b[0mioargs\u001b[0m\u001b[1;33m.\u001b[0m\u001b[0mencoding\u001b[0m \u001b[1;32mand\u001b[0m \u001b[1;34m\"b\"\u001b[0m \u001b[1;32mnot\u001b[0m \u001b[1;32min\u001b[0m \u001b[0mioargs\u001b[0m\u001b[1;33m.\u001b[0m\u001b[0mmode\u001b[0m\u001b[1;33m:\u001b[0m\u001b[1;33m\u001b[0m\u001b[1;33m\u001b[0m\u001b[0m\n\u001b[0;32m    855\u001b[0m             \u001b[1;31m# Encoding\u001b[0m\u001b[1;33m\u001b[0m\u001b[1;33m\u001b[0m\u001b[0m\n\u001b[1;32m--> 856\u001b[1;33m             handle = open(\n\u001b[0m\u001b[0;32m    857\u001b[0m                 \u001b[0mhandle\u001b[0m\u001b[1;33m,\u001b[0m\u001b[1;33m\u001b[0m\u001b[1;33m\u001b[0m\u001b[0m\n\u001b[0;32m    858\u001b[0m                 \u001b[0mioargs\u001b[0m\u001b[1;33m.\u001b[0m\u001b[0mmode\u001b[0m\u001b[1;33m,\u001b[0m\u001b[1;33m\u001b[0m\u001b[1;33m\u001b[0m\u001b[0m\n",
      "\u001b[1;31mFileNotFoundError\u001b[0m: [Errno 2] No such file or directory: 'C:\\\\Users\\\\emrecan.ulu.DESKTOP-4T87DPH\\\\Desktop\\\\türkiye\\\\türkiye_monthly.csv'"
     ]
    }
   ],
   "source": [
    "istanbul = pd.read_csv(r\"C:\\Users\\emrecan.ulu.DESKTOP-4T87DPH\\Desktop\\türkiye\\türkiye_monthly.csv\")\n",
    "istanbul = istanbul.drop(columns=(\"index\"))\n",
    "istanbul = istanbul.drop(columns=(\"Unnamed: 0\"))\n",
    "istanbul = istanbul.loc[istanbul.city == \"İstanbul\"]\n",
    "istanbul.reset_index(drop=True, inplace=True)"
   ]
  },
  {
   "cell_type": "code",
   "execution_count": null,
   "id": "ee236708-e257-4978-b5b8-a7d9a63ac99a",
   "metadata": {
    "tags": []
   },
   "outputs": [],
   "source": [
    "istanbul"
   ]
  },
  {
   "cell_type": "code",
   "execution_count": null,
   "id": "039545a7-359f-441f-92b3-845c1bb0a946",
   "metadata": {
    "tags": []
   },
   "outputs": [],
   "source": [
    "istanbul.dropna(thresh=1, inplace=True)\n",
    "istanbul"
   ]
  },
  {
   "cell_type": "code",
   "execution_count": null,
   "id": "7e288396-fbb6-4819-b074-9a24bf1ec4ff",
   "metadata": {
    "tags": []
   },
   "outputs": [],
   "source": [
    "#boş avgları dolduruyorum\n",
    "istanbul.loc[pd.isna(istanbul[\"tavg\"]), \"tavg\"] = (istanbul[\"tmax\"] + istanbul[\"tmin\"]) / 2"
   ]
  },
  {
   "cell_type": "code",
   "execution_count": null,
   "id": "a0c751a3-89e2-469d-b1e1-f1e4f58009e6",
   "metadata": {
    "tags": []
   },
   "outputs": [],
   "source": [
    "istanbul"
   ]
  },
  {
   "cell_type": "code",
   "execution_count": null,
   "id": "1aa55ce2-62eb-4367-93cd-85e6dfbfe40c",
   "metadata": {
    "tags": []
   },
   "outputs": [],
   "source": [
    "# Tarih sütununu datetime formatına çeviriyoruz\n",
    "istanbul['time'] = pd.to_datetime(istanbul['time'])\n",
    "\n",
    "# yıllık ortalama sıcaklıkları çekiyorum\n",
    "istanbul_ortalama = istanbul.copy()\n",
    "istanbul_ortalama.set_index(\"time\", inplace=True)\n",
    "\n",
    "# Yıllık ortalama sıcaklık hesaplaması\n",
    "istanbul_ortalama = istanbul_ortalama.resample(\"Y\").mean()\n",
    "\n",
    "# Yıllık ortalama sıcaklık verilerini ayrı bir DataFrame olarak kaydetme\n",
    "istanbul_ortalama = pd.DataFrame(istanbul_ortalama, columns=[\"tavg\"])\n",
    "istanbul_ortalama.reset_index(drop=False, inplace=True)\n",
    "\n",
    "# 10 yıllık hareketli ortalamaları al\n",
    "ten_year_avg = istanbul_ortalama[\"tavg\"].rolling(window=10).mean()\n",
    "\n",
    "# Grafiğin boyutunu ayarlayın\n",
    "plt.figure(figsize=(12, 8))\n",
    "\n",
    "# Arka planı beyaz yerine grid tarzı yapın\n",
    "sns.set(style=\"whitegrid\")\n",
    "\n",
    "# Grafikleri çizdirme\n",
    "plt.plot(istanbul_ortalama[\"time\"], istanbul_ortalama[\"tavg\"], label=\"Yıllık Ortalama Sıcaklık\", color=\"b\")\n",
    "plt.plot(istanbul_ortalama[\"time\"], ten_year_avg, label=\"10 Yıllık Ortalama Sıcaklık\", linewidth=2, color=\"r\", marker='o')\n",
    "\n",
    "# Eksen etiketlerini ve başlığı güncelleme\n",
    "plt.xlabel(\"Tarih\")\n",
    "plt.ylabel(\"Sıcaklık Ortalaması (°C)\")\n",
    "plt.title(\"İstanbul Yıllık Ortalama Sıcaklıklar ve 10 Yıllık Ortalama\")\n",
    "\n",
    "# İlgili yıla odaklanmak için grafiği sınırlama\n",
    "plt.xlim(istanbul_ortalama[\"time\"].iloc[0], istanbul_ortalama[\"time\"].iloc[-1])\n",
    "\n",
    "# Efsaneyi gösterme\n",
    "plt.legend()\n",
    "\n",
    "# Grafikleri gösterme\n",
    "plt.tight_layout()\n",
    "plt.show()"
   ]
  },
  {
   "cell_type": "code",
   "execution_count": null,
   "id": "456e736a-6342-4584-8f09-6b4209fd6ec5",
   "metadata": {
    "tags": []
   },
   "outputs": [],
   "source": [
    "!pip install xlrd"
   ]
  },
  {
   "cell_type": "markdown",
   "id": "e957d441-e364-4ba1-a63b-c448f9e8c116",
   "metadata": {
    "tags": []
   },
   "source": [
    "## Emisyon ve Sıcaklık"
   ]
  },
  {
   "cell_type": "code",
   "execution_count": null,
   "id": "6d5fa144-32e7-4a23-8a3c-a56fde74fc9b",
   "metadata": {
    "tags": []
   },
   "outputs": [],
   "source": [
    "# türkiye gaz emisyonlarını görsele dahil ediyorum\n",
    "\n",
    "emisyon_tuik = pd.read_excel(\"sera gazi emisyonlari (milyon ton co2 esdegeri).xls\")\n",
    "new_column_names = {\n",
    "    \"Sera gazı emisyonları (CO2 eşdeğeri), 1990 - 2021\": \"Yıl\",\n",
    "    \"Unnamed: 1\": \"Toplam\",\n",
    "    \"Unnamed: 2\": \"CO2\",\n",
    "    \"Unnamed: 3\": \"CH4\",\n",
    "    \"Unnamed: 4\": \"N2O\",\n",
    "    \"Unnamed: 5\": \"FGAZ\"\n",
    "}\n",
    "\n",
    "emisyon_tuik.rename(columns=new_column_names, inplace=True)\n",
    "emisyon_tuik = emisyon_tuik.iloc[3:35]\n",
    "emisyon_tuik['Yıl'] = pd.to_datetime(emisyon_tuik['Yıl'], format='%Y')\n",
    "emisyon_tuik.reset_index(drop=True, inplace=True)"
   ]
  },
  {
   "cell_type": "code",
   "execution_count": null,
   "id": "dbfecfb3-4e8f-4f5a-b0eb-8fa0f7597f69",
   "metadata": {
    "tags": []
   },
   "outputs": [],
   "source": [
    "emisyon_tuik"
   ]
  },
  {
   "cell_type": "code",
   "execution_count": null,
   "id": "2b68202d-d297-48a4-a5b2-afd7d3459bc2",
   "metadata": {
    "tags": []
   },
   "outputs": [],
   "source": [
    "# Grafiğin boyutunu ayarlayın\n",
    "plt.figure(figsize=(12, 8))\n",
    "\n",
    "# Arka planı beyaz yerine grid tarzı yapın\n",
    "sns.set(style=\"whitegrid\")\n",
    "\n",
    "# Birinci y-eksen verileri çizdirme (sıcaklık)\n",
    "plt.plot(istanbul_ortalama[\"time\"], ten_year_avg, label=\"10 Yıllık Ortalama Sıcaklık\", linewidth=2, color=\"r\", marker='o')\n",
    "\n",
    "# Birinci y-eksen etiketlerini ve başlığı güncelleme\n",
    "plt.xlabel(\"Tarih\")\n",
    "plt.ylabel(\"Sıcaklık Ortalaması (°C)\")\n",
    "plt.title(\"İstanbul 10 Yıllık Ortalama Sıcaklık ve Türkiye Emisyon Oranı TÜİK\")\n",
    "plt.legend()\n",
    "\n",
    "# İlgili yıla odaklanmak için grafiği sınırlama\n",
    "plt.xlim(istanbul_ortalama[\"time\"].iloc[0], istanbul_ortalama[\"time\"].iloc[-1])\n",
    "\n",
    "# İkinci y-eksen verileri çizdirme (emisyon oranları)\n",
    "ax2 = plt.gca().twinx()  # İkincil y-eksen oluşturma\n",
    "ax2.plot(emisyon_tuik[\"Yıl\"], emisyon_tuik[\"Toplam\"], label=\"Emisyon Oranı TÜİK\", linewidth=2, color=\"orange\", marker='x')\n",
    "ax2.set_ylabel(\"Emisyon Oranı Türkiye\")  # İkincil y-eksen etiketi\n",
    "\n",
    "plt.legend(bbox_to_anchor=(0.2, 0.9555))\n",
    "\n",
    "# Grafikleri gösterme\n",
    "plt.tight_layout()\n",
    "plt.show()"
   ]
  },
  {
   "cell_type": "code",
   "execution_count": null,
   "id": "ab03a3b4-2b0e-4813-a3b5-9b45a8c2d64c",
   "metadata": {
    "tags": []
   },
   "outputs": [],
   "source": [
    "#CAMBRIDGE VE OXFORD DESTEKLI OWID DATASINA GÖRE TR EMİSYON ORANLARINA BAKALIM\n",
    "emisyon_owid = pd.read_csv(\"owid-co2-data.csv\")"
   ]
  },
  {
   "cell_type": "code",
   "execution_count": null,
   "id": "21fef918-f092-4b6c-851a-0d8cddb0b641",
   "metadata": {
    "tags": []
   },
   "outputs": [],
   "source": [
    "emisyon_owid.loc[emisyon_owid.loc[emisyon_owid.country == \"Turkey\"][\"co2\"].dropna().index].columns\n",
    "emisyon_owid = emisyon_owid.loc[emisyon_owid.loc[emisyon_owid.country == \"Turkey\"][\"co2\"].dropna().index][[\"country\",\"year\",\"co2\",\"gas_co2\",\"methane\",\"nitrous_oxide\",\"oil_co2\",'other_industry_co2', 'primary_energy_consumption',\"consumption_co2\",\"energy_per_capita\",'total_ghg']]\n",
    "emisyon_owid = emisyon_owid.fillna(0)\n",
    "emisyon_owid[\"total\"] = emisyon_owid[\"co2\"] + emisyon_owid[\"methane\"] + emisyon_owid[\"nitrous_oxide\"]\n",
    "emisyon_owid_tur = emisyon_owid.copy()\n",
    "emisyon_owid_tur = emisyon_owid_tur[[\"country\",\"year\",\"total_ghg\",\"total\"]]\n",
    "emisyon_owid_tur.loc[emisyon_owid_tur[\"total_ghg\"]==0, \"total_ghg\"] = emisyon_owid_tur[\"total\"]\n",
    "emisyon_owid_tur.drop(columns=\"total\", inplace=True)\n",
    "emisyon_owid_tur['year'] = pd.to_datetime(emisyon_owid_tur['year'], format='%Y')"
   ]
  },
  {
   "cell_type": "code",
   "execution_count": null,
   "id": "4308998a-c6ba-44a4-9d61-c65051e09d96",
   "metadata": {
    "tags": []
   },
   "outputs": [],
   "source": [
    "emisyon_owid_tur"
   ]
  },
  {
   "cell_type": "code",
   "execution_count": null,
   "id": "e1cde1f6-77c4-4c1c-bfb4-42d930b0f6ac",
   "metadata": {
    "tags": []
   },
   "outputs": [],
   "source": [
    "# Grafiğin boyutunu ayarlayın\n",
    "plt.figure(figsize=(12, 8))\n",
    "\n",
    "# Arka planı beyaz yerine grid tarzı yapın\n",
    "sns.set(style=\"whitegrid\")\n",
    "\n",
    "# Birinci y-eksen verileri çizdirme (sıcaklık)\n",
    "plt.plot(istanbul_ortalama[\"time\"], ten_year_avg, label=\"10 Yıllık Ortalama Sıcaklık\", linewidth=2, color=\"r\", marker='o')\n",
    "\n",
    "# Birinci y-eksen etiketlerini ve başlığı güncelleme\n",
    "plt.xlabel(\"Tarih\")\n",
    "plt.ylabel(\"Sıcaklık Ortalaması (°C)\")\n",
    "plt.title(\"İstanbul 10 Yıllık Ortalama Sıcaklık ve Türkiye Emisyon Oranı TÜİK ve OWID\")\n",
    "plt.legend()\n",
    "\n",
    "# İlgili yıla odaklanmak için grafiği sınırlama\n",
    "plt.xlim(istanbul_ortalama[\"time\"].iloc[0], istanbul_ortalama[\"time\"].iloc[-1])\n",
    "\n",
    "# İkinci y-eksen verileri çizdirme (emisyon oranları)\n",
    "ax2 = plt.gca().twinx()  # İkincil y-eksen oluşturma\n",
    "ax2.plot(emisyon_tuik[\"Yıl\"], emisyon_tuik[\"Toplam\"], label=\"Emisyon Oranı TÜİK\", linewidth=2, color=\"orange\", marker='x')\n",
    "ax2.set_ylabel(\"Emisyon Oranı Türkiye TÜİK\")  # İkincil y-eksen etiketi\n",
    "plt.legend(bbox_to_anchor=(0.2, 0.9555))\n",
    "\n",
    "# Üçüncü y-eksen verileri çizdirme (emisyon oranları)\n",
    "ax3 = plt.gca().twinx()  \n",
    "ax3.plot(emisyon_owid_tur[emisyon_owid_tur[\"year\"] >= datetime(1930, 1, 1)][\"year\"], emisyon_owid_tur[emisyon_owid_tur[\"year\"] >= datetime(1930, 1, 1)][\"total_ghg\"], label=\"Emisyon Oranı OWID\", linewidth=2, color=\"blue\", marker='x')\n",
    "ax3.set_ylabel(\"Emisyon Oranı Türkiye OWID\") \n",
    "plt.legend(bbox_to_anchor=(0.205, 0.91))\n",
    "\n",
    "\n",
    "# Grafikleri gösterme\n",
    "plt.tight_layout()\n",
    "plt.show()"
   ]
  },
  {
   "cell_type": "markdown",
   "id": "afa71e81-85bb-4fad-8dd6-a8e5ac65932c",
   "metadata": {
    "tags": []
   },
   "source": [
    "## Yeşillik ve Sıcaklık"
   ]
  },
  {
   "cell_type": "code",
   "execution_count": null,
   "id": "603237df-a97d-4b1d-ad60-cdd48d016b7b",
   "metadata": {
    "tags": []
   },
   "outputs": [],
   "source": [
    "yesillik_istanbul = pd.read_excel(\"istanbul data/2022-yeil-alan-bilgileri.xlsx\")\n",
    "yesillik_istanbul.drop(columns=\"Unnamed: 20\", inplace=True)"
   ]
  },
  {
   "cell_type": "code",
   "execution_count": null,
   "id": "0b09048a-32e6-40a2-8ce6-6fc889ff342b",
   "metadata": {
    "tags": []
   },
   "outputs": [],
   "source": [
    "dikilen_agac_istanbul = pd.melt(yesillik_istanbul.loc[yesillik_istanbul[\"FAALİYET KONUSU\"]==\"Dikilen Ağaç Sayısı\"].drop(columns=\"BİRİM\"), id_vars=[\"FAALİYET KONUSU\"], var_name=\"Year\", value_name=\"Count\")\n",
    "bakim_agac_istanbul = pd.melt(yesillik_istanbul.loc[yesillik_istanbul[\"FAALİYET KONUSU\"]==\"Bakımı Yapılan Ağaç Sayısı\"].drop(columns=\"BİRİM\"), id_vars=[\"FAALİYET KONUSU\"], var_name=\"Year\", value_name=\"Count\")\n",
    "dikilen_cali_istanbul = pd.melt(yesillik_istanbul.loc[yesillik_istanbul[\"FAALİYET KONUSU\"]==\"Dikilen Çalı Sayısı\"].drop(columns=\"BİRİM\"), id_vars=[\"FAALİYET KONUSU\"], var_name=\"Year\", value_name=\"Count\")"
   ]
  },
  {
   "cell_type": "code",
   "execution_count": null,
   "id": "69547bae-0674-44aa-ba6b-b920ec3ee054",
   "metadata": {
    "tags": []
   },
   "outputs": [],
   "source": [
    "dikilen_agac_istanbul['year'] = pd.to_datetime(dikilen_agac_istanbul['Year'], format='%Y')\n",
    "bakim_agac_istanbul['year'] = pd.to_datetime(bakim_agac_istanbul['Year'], format='%Y')\n",
    "dikilen_cali_istanbul['year'] = pd.to_datetime(dikilen_cali_istanbul['Year'], format='%Y')"
   ]
  },
  {
   "cell_type": "code",
   "execution_count": null,
   "id": "4769b68b-6228-4154-b27f-5979680533de",
   "metadata": {
    "tags": []
   },
   "outputs": [],
   "source": [
    "dikilen_agac_istanbul"
   ]
  },
  {
   "cell_type": "code",
   "execution_count": null,
   "id": "483f2538-59b6-4176-ba0d-01d1bece926c",
   "metadata": {
    "tags": []
   },
   "outputs": [],
   "source": [
    "import matplotlib.pyplot as plt\n",
    "import seaborn as sns\n",
    "from datetime import datetime\n",
    "\n",
    "# Grafiğin boyutunu ayarlayın\n",
    "plt.figure(figsize=(12, 8))\n",
    "\n",
    "# Arka planı beyaz yerine grid tarzı yapın\n",
    "sns.set_theme(style='white')\n",
    "\n",
    "# Birinci y-eksen verileri çizdirme (sıcaklık)\n",
    "plt.plot(dikilen_cali_istanbul[\"year\"], dikilen_cali_istanbul[\"Count\"], label=\"İstanbul Dikilen Çalı Sayısı\", linewidth=2, color=\"orange\", marker='o')\n",
    "plt.legend(loc='center left')\n",
    "\n",
    "# İkinci y-eksen verileri çizdirme (emisyon oranları)\n",
    "ax2 = plt.gca().twinx()  \n",
    "ax2.plot(bakim_agac_istanbul[\"year\"], bakim_agac_istanbul[\"Count\"], label=\"İstanbul Bakımı Yapılan Ağaç Sayısı\", linewidth=2, color=\"purple\", marker='x')\n",
    "\n",
    "# Üçüncü y-eksen verileri çizdirme (Dikilen Ağaç Sayısı)\n",
    "ax3 = plt.gca().twinx()  # İkincil y-eksen oluşturma\n",
    "ax3.plot(dikilen_agac_istanbul[\"year\"], dikilen_agac_istanbul[\"Count\"], label=\"İstanbul Dikilen Ağaç Sayısı\", linewidth=2, color=\"green\", marker='x')\n",
    "\n",
    "# Tüm y-eksen etiketlerini güncelleme\n",
    "plt.ylabel(\"Değerler\")\n",
    "\n",
    "# Başlığı güncelleme\n",
    "plt.title(\"Çeşitli Verilerin İstanbul Üzerindeki Etkisi\")\n",
    "\n",
    "# Tüm çizgi açıklamalarını ekleme\n",
    "lines = plt.gca().get_lines() + ax2.get_lines()\n",
    "labels = [line.get_label() for line in lines]\n",
    "plt.legend(lines, labels, loc='upper left')\n",
    "\n",
    "# Grafikleri gösterme\n",
    "plt.tight_layout()\n",
    "plt.show()\n"
   ]
  },
  {
   "cell_type": "code",
   "execution_count": null,
   "id": "f9af8af7-b5b5-461d-bdc5-0edb07f3c3c1",
   "metadata": {
    "tags": []
   },
   "outputs": [],
   "source": [
    "import matplotlib.pyplot as plt\n",
    "import seaborn as sns\n",
    "from datetime import datetime\n",
    "\n",
    "# Grafiğin boyutunu ayarlayın\n",
    "plt.figure(figsize=(12, 8))\n",
    "\n",
    "# Arka planı beyaz yerine grid tarzı yapın\n",
    "sns.set_theme(style='white')\n",
    "\n",
    "# Birinci y-eksen verileri çizdirme (sıcaklık)\n",
    "plt.plot(istanbul_ortalama[\"time\"], ten_year_avg, label=\"10 Yıllık Ortalama Sıcaklık\", linewidth=2, color=\"r\", marker='o')\n",
    "plt.legend(loc='center left')\n",
    "\n",
    "# İkinci y-eksen verileri çizdirme (emisyon oranları)\n",
    "ax2 = plt.gca().twinx()  \n",
    "ax2.plot(emisyon_owid_tur[emisyon_owid_tur[\"year\"] >= datetime(1930, 1, 1)][\"year\"], emisyon_owid_tur[emisyon_owid_tur[\"year\"] >= datetime(1930, 1, 1)][\"total_ghg\"], label=\"Emisyon Oranı OWID\", linewidth=2, color=\"blue\", marker='x')\n",
    "\n",
    "# Üçüncü y-eksen verileri çizdirme (Dikilen Ağaç Sayısı)\n",
    "ax3 = plt.gca().twinx()  # İkincil y-eksen oluşturma\n",
    "ax3.plot(dikilen_agac_istanbul[\"year\"], dikilen_agac_istanbul[\"Count\"], label=\"İstanbul Dikilen Ağaç Sayısı\", linewidth=2, color=\"green\", marker='x')\n",
    "\n",
    "# Tüm y-eksen etiketlerini güncelleme\n",
    "plt.ylabel(\"Değerler\")\n",
    "\n",
    "# Başlığı güncelleme\n",
    "plt.title(\"Çeşitli Verilerin İstanbul Üzerindeki Etkisi\")\n",
    "\n",
    "# Tüm çizgi açıklamalarını ekleme\n",
    "lines = plt.gca().get_lines() + ax2.get_lines()\n",
    "labels = [line.get_label() for line in lines]\n",
    "plt.legend(lines, labels, loc='upper left')\n",
    "\n",
    "# Grafikleri gösterme\n",
    "plt.tight_layout()\n",
    "plt.show()\n"
   ]
  },
  {
   "cell_type": "code",
   "execution_count": null,
   "id": "8ec95294-f838-4744-93eb-19d55b690050",
   "metadata": {
    "tags": []
   },
   "outputs": [],
   "source": [
    "import matplotlib.pyplot as plt\n",
    "import seaborn as sns\n",
    "from datetime import datetime\n",
    "\n",
    "# Grafiğin boyutunu ayarlayın\n",
    "plt.figure(figsize=(12, 8))\n",
    "\n",
    "# Arka planı beyaz yerine grid tarzı yapın\n",
    "sns.set_theme(style='white')\n",
    "\n",
    "# Birinci y-eksen verileri çizdirme (sıcaklık)\n",
    "plt.plot(istanbul_ortalama[\"time\"], ten_year_avg, label=\"10 Yıllık Ortalama Sıcaklık\", linewidth=2, color=\"r\", marker='o')\n",
    "plt.legend(loc='center left')\n",
    "\n",
    "# İkinci y-eksen verileri çizdirme (emisyon oranları)\n",
    "ax2 = plt.gca().twinx()  \n",
    "ax2.plot(emisyon_owid_tur[emisyon_owid_tur[\"year\"] >= datetime(1930, 1, 1)][\"year\"], emisyon_owid_tur[emisyon_owid_tur[\"year\"] >= datetime(1930, 1, 1)][\"total_ghg\"], label=\"Emisyon Oranı OWID\", linewidth=2, color=\"blue\", marker='x')\n",
    "\n",
    "# Üçüncü y-eksen verileri çizdirme (bakımı yapılan ağaç sayısı)\n",
    "ax3 = plt.gca().twinx()\n",
    "ax3.plot(bakim_agac_istanbul[\"year\"], bakim_agac_istanbul[\"Count\"], label=\"İstanbul Bakımı Yapılan Ağaç Sayısı\", linewidth=2, color=\"purple\", marker='s')\n",
    "\n",
    "# Tüm y-eksen etiketlerini güncelleme\n",
    "plt.ylabel(\"Değerler\")\n",
    "\n",
    "# Başlığı güncelleme\n",
    "plt.title(\"Çeşitli Verilerin İstanbul Üzerindeki Etkisi\")\n",
    "\n",
    "# Tüm çizgi açıklamalarını ekleme\n",
    "lines = plt.gca().get_lines() + ax2.get_lines()\n",
    "labels = [line.get_label() for line in lines]\n",
    "plt.legend(lines, labels, loc='upper left')\n",
    "\n",
    "# Grafikleri gösterme\n",
    "plt.tight_layout()\n",
    "plt.show()\n"
   ]
  },
  {
   "cell_type": "code",
   "execution_count": null,
   "id": "804b1a59-fa9b-4044-ae47-6d7040e54368",
   "metadata": {
    "tags": []
   },
   "outputs": [],
   "source": [
    "import matplotlib.pyplot as plt\n",
    "import seaborn as sns\n",
    "from datetime import datetime\n",
    "\n",
    "# Grafiğin boyutunu ayarlayın\n",
    "plt.figure(figsize=(12, 8))\n",
    "\n",
    "# Arka planı beyaz yerine grid tarzı yapın\n",
    "sns.set_theme(style='white')\n",
    "\n",
    "# Birinci y-eksen verileri çizdirme (sıcaklık)\n",
    "plt.plot(istanbul_ortalama[\"time\"], ten_year_avg, label=\"10 Yıllık Ortalama Sıcaklık\", linewidth=2, color=\"r\", marker='o')\n",
    "plt.legend(loc='center left')\n",
    "\n",
    "# İkinci y-eksen verileri çizdirme (emisyon oranları)\n",
    "ax2 = plt.gca().twinx()  \n",
    "ax2.plot(emisyon_owid_tur[emisyon_owid_tur[\"year\"] >= datetime(1930, 1, 1)][\"year\"], emisyon_owid_tur[emisyon_owid_tur[\"year\"] >= datetime(1930, 1, 1)][\"total_ghg\"], label=\"Emisyon Oranı OWID\", linewidth=2, color=\"blue\", marker='x')\n",
    "\n",
    "# Üçüncü y-eksen verileri çizdirme (dikilen çalı sayısı)\n",
    "ax3 = plt.gca().twinx()\n",
    "ax3.plot(dikilen_cali_istanbul[\"year\"], dikilen_cali_istanbul[\"Count\"], label=\"İstanbul Dikilen Çalı Sayısı\", linewidth=2, color=\"orange\", marker='d')\n",
    "\n",
    "# Tüm y-eksen etiketlerini güncelleme\n",
    "plt.ylabel(\"Değerler\")\n",
    "\n",
    "# Başlığı güncelleme\n",
    "plt.title(\"Çeşitli Verilerin İstanbul Üzerindeki Etkisi\")\n",
    "\n",
    "# Tüm çizgi açıklamalarını ekleme\n",
    "lines = plt.gca().get_lines() + ax2.get_lines()\n",
    "labels = [line.get_label() for line in lines]\n",
    "plt.legend(lines, labels, loc='upper left')\n",
    "\n",
    "# Grafikleri gösterme\n",
    "plt.tight_layout()\n",
    "plt.show()\n"
   ]
  },
  {
   "cell_type": "markdown",
   "id": "dbafcceb-559b-4bf9-8735-686e505f0e38",
   "metadata": {
    "tags": []
   },
   "source": [
    "## Su ve Sıcaklık"
   ]
  },
  {
   "cell_type": "code",
   "execution_count": null,
   "id": "6e20bcbe-ec69-4fed-bf30-ee8212a3944a",
   "metadata": {
    "tags": []
   },
   "outputs": [],
   "source": [
    "yagis_baraj = pd.read_excel(\"istanbul data/ibb_yags_verileri_2011-23.xlsx\")\n",
    "yagis_baraj['year'] = pd.to_datetime(yagis_baraj['Tarih'], format='%Y')"
   ]
  },
  {
   "cell_type": "code",
   "execution_count": null,
   "id": "e36218b3-9dec-4153-89e0-dd89616340ed",
   "metadata": {
    "tags": []
   },
   "outputs": [],
   "source": [
    "yagis_baraj"
   ]
  },
  {
   "cell_type": "code",
   "execution_count": null,
   "id": "d0fc72cb-ab8e-429e-b834-95dd0ae7017b",
   "metadata": {
    "tags": []
   },
   "outputs": [],
   "source": [
    "# Tarih sütununu pandas'ın datetime formatına çevirin\n",
    "yagis_baraj['year'] = pd.to_datetime(yagis_baraj['year'])\n",
    "\n",
    "# Tarihe göre gruplayıp aylık ortalama değerleri hesaplayın\n",
    "yagis_baraj['month'] = yagis_baraj['year'].dt.month\n",
    "yagis_baraj['year'] = yagis_baraj['year'].dt.year"
   ]
  },
  {
   "cell_type": "code",
   "execution_count": null,
   "id": "407ba208-3913-4d4d-8464-242dcefc5f18",
   "metadata": {
    "tags": []
   },
   "outputs": [],
   "source": [
    "yagis_baraj"
   ]
  },
  {
   "cell_type": "code",
   "execution_count": null,
   "id": "2c994590-e41a-4f29-93a2-8ffadfea3e65",
   "metadata": {
    "tags": []
   },
   "outputs": [],
   "source": [
    "# istanbul ortalama'daki aynı formatta year sütunu ekliyorum\n",
    "yagis_baraj['yearS'] = pd.to_datetime(yagis_baraj['year'].astype(str) + '-12-31')"
   ]
  },
  {
   "cell_type": "code",
   "execution_count": null,
   "id": "58f4ebae-3b50-47ef-b04f-3447e689f2fd",
   "metadata": {
    "tags": []
   },
   "outputs": [],
   "source": [
    "yagis_yillik_istanbul = yagis_baraj.groupby(\"year\").sum().drop(columns=\"month\")\n",
    "yagis_yillik_istanbul.reset_index(drop=False, inplace=True)\n",
    "yagis_yillik_istanbul"
   ]
  },
  {
   "cell_type": "code",
   "execution_count": null,
   "id": "24bf8c3a-4038-4678-a8f6-81940fe95c27",
   "metadata": {
    "tags": []
   },
   "outputs": [],
   "source": [
    "# istanbul ortalama'daki aynı formatta year sütunu ekliyorum\n",
    "yagis_yillik_istanbul['yearS'] = pd.to_datetime(yagis_yillik_istanbul['year'].astype(str) + '-12-31')"
   ]
  },
  {
   "cell_type": "code",
   "execution_count": null,
   "id": "8dc996b7-76e7-4c39-b491-472bb55447b0",
   "metadata": {
    "tags": []
   },
   "outputs": [],
   "source": [
    "yagis_yillik_istanbul[\"TotalBaraj\"]=yagis_yillik_istanbul[\"Ömerli\"]+yagis_yillik_istanbul[\"Darlik\"]+yagis_yillik_istanbul[\"Elmali\"]+yagis_yillik_istanbul[\"Terkos\"]+yagis_yillik_istanbul[\"B.çekmece\"]+yagis_yillik_istanbul[\"Sazlidere\"]+yagis_yillik_istanbul[\"Alibey\"]+yagis_yillik_istanbul[\"Kazandere\"]+yagis_yillik_istanbul[\"Pabuçdere\"]\n",
    "yagis_yillik_istanbul"
   ]
  },
  {
   "cell_type": "code",
   "execution_count": null,
   "id": "985b32e6-7bfb-43ae-a8f9-0af43e461c2a",
   "metadata": {
    "tags": []
   },
   "outputs": [],
   "source": [
    "istanbul_ortalama.loc[istanbul_ortalama[\"time\"] >= pd.to_datetime('2010-01-01')]"
   ]
  },
  {
   "cell_type": "code",
   "execution_count": null,
   "id": "6744f57c-2685-4825-86b0-29d7e025fd65",
   "metadata": {
    "tags": []
   },
   "outputs": [],
   "source": [
    "su_tuketim_m3 = pd.read_excel(\"istanbul data/m3-in-total-since-1991.xlsx\")\n",
    "su_tuketim_yesil = pd.read_excel(\"istanbul data/yllara-gore-yeil-alanlar-icin-harcanan-su-miktar.xlsx\")"
   ]
  },
  {
   "cell_type": "code",
   "execution_count": null,
   "id": "5ff7d8ed-d8e0-436c-b523-a007a9c0db70",
   "metadata": {
    "tags": []
   },
   "outputs": [],
   "source": [
    "su_tuketim_yesil"
   ]
  },
  {
   "cell_type": "code",
   "execution_count": null,
   "id": "ff982c59-0fb3-4de1-aa52-686093f2d557",
   "metadata": {
    "tags": []
   },
   "outputs": [],
   "source": [
    "su_tuketim_m3"
   ]
  },
  {
   "cell_type": "code",
   "execution_count": null,
   "id": "1179197e-8298-4aa8-b4a6-74a05e305887",
   "metadata": {
    "tags": []
   },
   "outputs": [],
   "source": [
    "baraj_doluluk_istanbul = pd.read_excel(\"istanbul data/istanbul-dams-daily-occupancy-rates.xlsx\")\n",
    "#totali toplayıp eleman sayısına bölüyorum\n",
    "baraj_doluluk_istanbul[\"TotalBaraj\"]=baraj_doluluk_istanbul[\"Ömerli\"]+baraj_doluluk_istanbul[\"Istrancalar\"]+baraj_doluluk_istanbul[\"Darlık\"]+baraj_doluluk_istanbul[\"Elmalı\"]+baraj_doluluk_istanbul[\"Terkos\"]+baraj_doluluk_istanbul[\"Büyükçekmece\"]+baraj_doluluk_istanbul[\"Sazlıdere\"]+baraj_doluluk_istanbul[\"Alibey\"]+baraj_doluluk_istanbul[\"Kazandere\"]+baraj_doluluk_istanbul[\"Pabuçdere\"]\n",
    "baraj_doluluk_istanbul[\"TotalBaraj\"]=baraj_doluluk_istanbul[\"TotalBaraj\"]/10\n",
    "#yıllık ortalamaları buluyorum\n",
    "baraj_doluluk_istanbul[\"Tarih\"] = pd.to_datetime(baraj_doluluk_istanbul[\"Tarih\"])  # Convert \"Tarih\" column to datetime\n",
    "baraj_doluluk_istanbul[\"year\"] = baraj_doluluk_istanbul[\"Tarih\"].dt.year  # Extract year from the datetime column\n",
    "yillik_ort = baraj_doluluk_istanbul.groupby(\"year\")[\"TotalBaraj\"].mean()\n",
    "baraj_doluluk_istanbul[\"yillik_ort\"] = baraj_doluluk_istanbul[\"year\"].map(yillik_ort)\n",
    "\n",
    "baraj_doluluk_istanbul"
   ]
  },
  {
   "cell_type": "code",
   "execution_count": null,
   "id": "25d49e10-0165-4133-900e-da427e5342a3",
   "metadata": {
    "tags": []
   },
   "outputs": [],
   "source": [
    "plt.figure(figsize=(10, 6))  # Grafik boyutunu belirleme\n",
    "plt.bar(yagis_yillik_istanbul[\"year\"], yagis_yillik_istanbul[\"TotalBaraj\"], color=\"lightblue\")\n",
    "plt.xlabel(\"Yıl\")\n",
    "plt.ylabel(\"Yağış Miktarı (mm)\")\n",
    "plt.title(\"Toplam Baraj Yağışları İstanbul\")\n",
    "plt.xticks(rotation=45)  # Eksen etiketlerini 45 derece döndürme\n",
    "plt.grid(axis=\"y\", linestyle=\"--\", alpha=0.7)  # Y ekseni üzerinde ızgaralar ekler\n",
    "plt.tight_layout()  # Grafik öğelerinin sığdırılması\n",
    "plt.show()"
   ]
  },
  {
   "cell_type": "code",
   "execution_count": null,
   "id": "900bac23-c6fb-4f97-b585-4badb48135f9",
   "metadata": {
    "tags": []
   },
   "outputs": [],
   "source": [
    "plt.figure(figsize=(10, 6))  # Grafik boyutunu belirleme\n",
    "plt.bar(su_tuketim_m3[\"YIL\"], su_tuketim_m3[\"TOPLAM M3\"], color=\"lightblue\")\n",
    "plt.xlabel(\"Yıl\")\n",
    "plt.ylabel(\"Tüketim Miktarı (m3)\")\n",
    "plt.title(\"Su Tüketim Miktarı Yıllık\")\n",
    "plt.xticks(rotation=45)  # Eksen etiketlerini 45 derece döndürme\n",
    "plt.grid(axis=\"y\", linestyle=\"--\", alpha=0.7)  # Y ekseni üzerinde ızgaralar ekler\n",
    "plt.tight_layout()  # Grafik öğelerinin sığdırılması\n",
    "plt.show()"
   ]
  },
  {
   "cell_type": "code",
   "execution_count": null,
   "id": "b932bd78-b79b-4c0e-8f3b-d621f5fb5c23",
   "metadata": {
    "tags": []
   },
   "outputs": [],
   "source": [
    "plt.figure(figsize=(10, 6))  # Grafik boyutunu belirleme\n",
    "plt.bar(su_tuketim_yesil[\"Yıl\"], su_tuketim_yesil[\"Su Tüketimi (m3)\"], color=\"lightblue\")\n",
    "plt.xlabel(\"Yıl\")\n",
    "plt.ylabel(\"Tüketim Miktarı (m3)\")\n",
    "plt.title(\"Yeşil Alan Su Tüketim Miktarı Yıllık\")\n",
    "plt.xticks(rotation=45)  # Eksen etiketlerini 45 derece döndürme\n",
    "plt.grid(axis=\"y\", linestyle=\"--\", alpha=0.7)  # Y ekseni üzerinde ızgaralar ekler\n",
    "plt.tight_layout()  # Grafik öğelerinin sığdırılması\n",
    "plt.show()"
   ]
  },
  {
   "cell_type": "code",
   "execution_count": null,
   "id": "bcf50305-4906-43b2-9afe-887ac3bcc4fa",
   "metadata": {
    "tags": []
   },
   "outputs": [],
   "source": [
    "plt.figure(figsize=(10, 6))  # Grafik boyutunu belirleme\n",
    "plt.bar(baraj_doluluk_istanbul[\"year\"], baraj_doluluk_istanbul[\"yillik_ort\"], color=\"lightblue\")\n",
    "plt.xlabel(\"Yıl\")\n",
    "plt.ylabel(\"Yıllık ortalama baraj doluluk oranı\")\n",
    "plt.title(\"Ortalama Baraj Doluluk Oranı İstanbul\")\n",
    "plt.xticks(rotation=45)  # Eksen etiketlerini 45 derece döndürme\n",
    "plt.grid(axis=\"y\", linestyle=\"--\", alpha=0.7)  # Y ekseni üzerinde ızgaralar ekler\n",
    "plt.tight_layout()  # Grafik öğelerinin sığdırılması\n",
    "plt.show()"
   ]
  },
  {
   "cell_type": "markdown",
   "id": "955f4692-acf2-412f-a74a-d5edba94a3e2",
   "metadata": {
    "tags": []
   },
   "source": [
    "## Trafik ve Sıcaklık"
   ]
  },
  {
   "cell_type": "code",
   "execution_count": null,
   "id": "445e0d0c-7e4c-45ec-be66-9148210ddc18",
   "metadata": {
    "tags": []
   },
   "outputs": [],
   "source": [
    "yagis_baraj"
   ]
  },
  {
   "cell_type": "code",
   "execution_count": null,
   "id": "69ca3ee3-afcc-4e34-b727-dee143092b71",
   "metadata": {},
   "outputs": [],
   "source": []
  },
  {
   "cell_type": "code",
   "execution_count": null,
   "id": "23eabee1-1168-44bd-b091-5883c64684ce",
   "metadata": {},
   "outputs": [],
   "source": []
  },
  {
   "cell_type": "code",
   "execution_count": null,
   "id": "3e7c14a5-7374-4616-9608-b7373f187a8b",
   "metadata": {},
   "outputs": [],
   "source": []
  },
  {
   "cell_type": "code",
   "execution_count": null,
   "id": "7c930bcb-9390-49de-ae40-f798d0b30b88",
   "metadata": {},
   "outputs": [],
   "source": []
  },
  {
   "cell_type": "code",
   "execution_count": null,
   "id": "71d39164-b54b-457c-841a-488051aef518",
   "metadata": {},
   "outputs": [],
   "source": []
  },
  {
   "cell_type": "code",
   "execution_count": null,
   "id": "e90e9f11-5ba1-417b-afcc-fa546e8564ca",
   "metadata": {},
   "outputs": [],
   "source": []
  },
  {
   "cell_type": "code",
   "execution_count": null,
   "id": "3cbe0f64-fbd5-47fb-806d-1221c402388d",
   "metadata": {},
   "outputs": [],
   "source": []
  },
  {
   "cell_type": "code",
   "execution_count": null,
   "id": "6086f475-d831-4bcf-8508-3a19a5e2d0a5",
   "metadata": {},
   "outputs": [],
   "source": []
  },
  {
   "cell_type": "code",
   "execution_count": null,
   "id": "6b6bb8f0-3c53-4cd0-ba19-9e773d78febc",
   "metadata": {},
   "outputs": [],
   "source": []
  },
  {
   "cell_type": "code",
   "execution_count": null,
   "id": "89df1261-e7b1-4bee-b6f3-faf35f73c7b9",
   "metadata": {},
   "outputs": [],
   "source": []
  },
  {
   "cell_type": "code",
   "execution_count": null,
   "id": "575731f8-296c-4f9b-8e70-f5e7b0fd5264",
   "metadata": {},
   "outputs": [],
   "source": []
  },
  {
   "cell_type": "code",
   "execution_count": null,
   "id": "8f78cd5d-b282-4ab3-b56c-8c75f153eaf6",
   "metadata": {},
   "outputs": [],
   "source": []
  },
  {
   "cell_type": "code",
   "execution_count": null,
   "id": "bb7d32c7-f524-404c-b087-be10193bedd8",
   "metadata": {},
   "outputs": [],
   "source": []
  },
  {
   "cell_type": "code",
   "execution_count": null,
   "id": "3a1cf2fe-9d0a-44ca-bbd6-59a2a618779d",
   "metadata": {},
   "outputs": [],
   "source": []
  },
  {
   "cell_type": "code",
   "execution_count": null,
   "id": "a1fe7e08-f51e-4d39-8729-dd7105fce883",
   "metadata": {},
   "outputs": [],
   "source": []
  },
  {
   "cell_type": "code",
   "execution_count": null,
   "id": "50721458-c72e-4a9e-9bcb-4eafb56ce62a",
   "metadata": {},
   "outputs": [],
   "source": []
  },
  {
   "cell_type": "code",
   "execution_count": null,
   "id": "c0742362-78fc-4a93-b86d-f008934984fb",
   "metadata": {},
   "outputs": [],
   "source": []
  },
  {
   "cell_type": "code",
   "execution_count": null,
   "id": "d400b8d3-acbc-4e26-b55f-aa19ef12374b",
   "metadata": {},
   "outputs": [],
   "source": []
  },
  {
   "cell_type": "code",
   "execution_count": null,
   "id": "42fbf112-1b48-4452-8c30-cd828475abc7",
   "metadata": {},
   "outputs": [],
   "source": []
  },
  {
   "cell_type": "code",
   "execution_count": null,
   "id": "51891942-775c-411e-a4ba-920ee141e198",
   "metadata": {},
   "outputs": [],
   "source": []
  }
 ],
 "metadata": {
  "kernelspec": {
   "display_name": "Python 3 (ipykernel)",
   "language": "python",
   "name": "python3"
  },
  "language_info": {
   "codemirror_mode": {
    "name": "ipython",
    "version": 3
   },
   "file_extension": ".py",
   "mimetype": "text/x-python",
   "name": "python",
   "nbconvert_exporter": "python",
   "pygments_lexer": "ipython3",
   "version": "3.9.13"
  }
 },
 "nbformat": 4,
 "nbformat_minor": 5
}
