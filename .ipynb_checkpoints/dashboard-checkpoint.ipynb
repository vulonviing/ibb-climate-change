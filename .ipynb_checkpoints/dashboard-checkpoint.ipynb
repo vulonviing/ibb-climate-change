{
 "cells": [
  {
   "cell_type": "code",
   "execution_count": 52,
   "id": "c0186366-7d98-45ec-9970-765f589eb299",
   "metadata": {},
   "outputs": [],
   "source": [
    "import dash\n",
    "import dash_core_components as dcc\n",
    "import dash_html_components as html\n",
    "from dash.dependencies import Input, Output\n",
    "import plotly.graph_objs as go\n",
    "import pandas as pd\n",
    "import plotly.express as px\n"
   ]
  },
  {
   "cell_type": "code",
   "execution_count": 53,
   "id": "b244ca93-5c02-496b-9cb6-c9232ac4ffbe",
   "metadata": {
    "tags": []
   },
   "outputs": [],
   "source": [
    "sicaklik_reel = pd.read_csv('BItooldata/sicaklik_emisyon_reel.csv')\n"
   ]
  },
  {
   "cell_type": "code",
   "execution_count": 54,
   "id": "ebba7979-39ea-4d63-91b9-0fcc7df06059",
   "metadata": {
    "tags": []
   },
   "outputs": [
    {
     "data": {
      "text/html": [
       "<div>\n",
       "<style scoped>\n",
       "    .dataframe tbody tr th:only-of-type {\n",
       "        vertical-align: middle;\n",
       "    }\n",
       "\n",
       "    .dataframe tbody tr th {\n",
       "        vertical-align: top;\n",
       "    }\n",
       "\n",
       "    .dataframe thead th {\n",
       "        text-align: right;\n",
       "    }\n",
       "</style>\n",
       "<table border=\"1\" class=\"dataframe\">\n",
       "  <thead>\n",
       "    <tr style=\"text-align: right;\">\n",
       "      <th></th>\n",
       "      <th>Unnamed: 0</th>\n",
       "      <th>sicaklik</th>\n",
       "      <th>year</th>\n",
       "      <th>total_ghg</th>\n",
       "      <th>Tarih</th>\n",
       "      <th>tavg</th>\n",
       "    </tr>\n",
       "  </thead>\n",
       "  <tbody>\n",
       "    <tr>\n",
       "      <th>0</th>\n",
       "      <td>0</td>\n",
       "      <td>14.440417</td>\n",
       "      <td>1938</td>\n",
       "      <td>5.0</td>\n",
       "      <td>1938-01-01</td>\n",
       "      <td>14.262500</td>\n",
       "    </tr>\n",
       "    <tr>\n",
       "      <th>1</th>\n",
       "      <td>1</td>\n",
       "      <td>14.525833</td>\n",
       "      <td>1939</td>\n",
       "      <td>5.0</td>\n",
       "      <td>1939-01-01</td>\n",
       "      <td>14.675000</td>\n",
       "    </tr>\n",
       "    <tr>\n",
       "      <th>2</th>\n",
       "      <td>2</td>\n",
       "      <td>14.405417</td>\n",
       "      <td>1940</td>\n",
       "      <td>5.0</td>\n",
       "      <td>1940-01-01</td>\n",
       "      <td>13.516667</td>\n",
       "    </tr>\n",
       "    <tr>\n",
       "      <th>3</th>\n",
       "      <td>3</td>\n",
       "      <td>14.350417</td>\n",
       "      <td>1941</td>\n",
       "      <td>6.0</td>\n",
       "      <td>1941-01-01</td>\n",
       "      <td>13.720833</td>\n",
       "    </tr>\n",
       "    <tr>\n",
       "      <th>4</th>\n",
       "      <td>4</td>\n",
       "      <td>14.155000</td>\n",
       "      <td>1942</td>\n",
       "      <td>5.0</td>\n",
       "      <td>1942-01-01</td>\n",
       "      <td>13.045833</td>\n",
       "    </tr>\n",
       "    <tr>\n",
       "      <th>...</th>\n",
       "      <td>...</td>\n",
       "      <td>...</td>\n",
       "      <td>...</td>\n",
       "      <td>...</td>\n",
       "      <td>...</td>\n",
       "      <td>...</td>\n",
       "    </tr>\n",
       "    <tr>\n",
       "      <th>79</th>\n",
       "      <td>79</td>\n",
       "      <td>15.821405</td>\n",
       "      <td>2017</td>\n",
       "      <td>472.0</td>\n",
       "      <td>2017-01-01</td>\n",
       "      <td>15.925000</td>\n",
       "    </tr>\n",
       "    <tr>\n",
       "      <th>80</th>\n",
       "      <td>80</td>\n",
       "      <td>15.928299</td>\n",
       "      <td>2018</td>\n",
       "      <td>471.0</td>\n",
       "      <td>2018-01-01</td>\n",
       "      <td>17.127273</td>\n",
       "    </tr>\n",
       "    <tr>\n",
       "      <th>81</th>\n",
       "      <td>81</td>\n",
       "      <td>16.007465</td>\n",
       "      <td>2019</td>\n",
       "      <td>460.0</td>\n",
       "      <td>2019-01-01</td>\n",
       "      <td>16.766667</td>\n",
       "    </tr>\n",
       "    <tr>\n",
       "      <th>82</th>\n",
       "      <td>82</td>\n",
       "      <td>15.984965</td>\n",
       "      <td>2020</td>\n",
       "      <td>413.0</td>\n",
       "      <td>2020-01-01</td>\n",
       "      <td>16.266667</td>\n",
       "    </tr>\n",
       "    <tr>\n",
       "      <th>83</th>\n",
       "      <td>83</td>\n",
       "      <td>15.964965</td>\n",
       "      <td>2021</td>\n",
       "      <td>446.0</td>\n",
       "      <td>2021-01-01</td>\n",
       "      <td>14.600000</td>\n",
       "    </tr>\n",
       "  </tbody>\n",
       "</table>\n",
       "<p>84 rows × 6 columns</p>\n",
       "</div>"
      ],
      "text/plain": [
       "    Unnamed: 0   sicaklik  year  total_ghg       Tarih       tavg\n",
       "0            0  14.440417  1938        5.0  1938-01-01  14.262500\n",
       "1            1  14.525833  1939        5.0  1939-01-01  14.675000\n",
       "2            2  14.405417  1940        5.0  1940-01-01  13.516667\n",
       "3            3  14.350417  1941        6.0  1941-01-01  13.720833\n",
       "4            4  14.155000  1942        5.0  1942-01-01  13.045833\n",
       "..         ...        ...   ...        ...         ...        ...\n",
       "79          79  15.821405  2017      472.0  2017-01-01  15.925000\n",
       "80          80  15.928299  2018      471.0  2018-01-01  17.127273\n",
       "81          81  16.007465  2019      460.0  2019-01-01  16.766667\n",
       "82          82  15.984965  2020      413.0  2020-01-01  16.266667\n",
       "83          83  15.964965  2021      446.0  2021-01-01  14.600000\n",
       "\n",
       "[84 rows x 6 columns]"
      ]
     },
     "execution_count": 54,
     "metadata": {},
     "output_type": "execute_result"
    }
   ],
   "source": [
    "sicaklik_reel"
   ]
  },
  {
   "cell_type": "code",
   "execution_count": 55,
   "id": "3eaa47f9-6063-490c-aaa8-3e5334a213ba",
   "metadata": {
    "tags": []
   },
   "outputs": [
    {
     "data": {
      "application/vnd.plotly.v1+json": {
       "config": {
        "plotlyServerURL": "https://plot.ly"
       },
       "data": [
        {
         "hovertemplate": "<extra></extra>",
         "legendgroup": "",
         "line": {
          "color": "#636efa",
          "dash": "solid"
         },
         "marker": {
          "symbol": "circle"
         },
         "mode": "lines",
         "name": "",
         "orientation": "v",
         "showlegend": false,
         "type": "scatter",
         "xaxis": "x",
         "yaxis": "y"
        },
        {
         "mode": "lines",
         "name": "Ortalama Sıcaklık (°C)",
         "type": "scatter",
         "x": [
          1938,
          1939,
          1940,
          1941,
          1942,
          1943,
          1944,
          1945,
          1946,
          1947,
          1948,
          1949,
          1950,
          1951,
          1952,
          1953,
          1954,
          1955,
          1956,
          1957,
          1958,
          1959,
          1960,
          1961,
          1962,
          1963,
          1964,
          1965,
          1966,
          1967,
          1968,
          1969,
          1970,
          1971,
          1972,
          1973,
          1974,
          1975,
          1976,
          1977,
          1978,
          1979,
          1980,
          1981,
          1982,
          1983,
          1984,
          1985,
          1986,
          1987,
          1988,
          1989,
          1990,
          1991,
          1992,
          1993,
          1994,
          1995,
          1996,
          1997,
          1998,
          1999,
          2000,
          2001,
          2002,
          2003,
          2004,
          2005,
          2006,
          2007,
          2008,
          2009,
          2010,
          2011,
          2012,
          2013,
          2014,
          2015,
          2016,
          2017,
          2018,
          2019,
          2020,
          2021
         ],
         "y": [
          14.2625,
          14.675,
          13.516666666666666,
          13.720833333333331,
          13.045833333333333,
          13.458333333333334,
          14.295833333333334,
          13.916666666666666,
          14.908333333333331,
          14.525,
          13.479166666666666,
          12.983333333333334,
          14.225,
          14.5,
          14.925,
          13.208333333333334,
          13.875,
          14.6625,
          13.225,
          14.008333333333333,
          14.279166666666669,
          13.141666666666666,
          14.383333333333333,
          14.091666666666669,
          14.591666666666669,
          14.3,
          13.4,
          13.666666666666666,
          15.433333333333332,
          13.95,
          14.016666666666666,
          13.966666666666669,
          14.633333333333333,
          14.15,
          13.891666666666666,
          13.708333333333334,
          13.825,
          14.291666666666666,
          13.35,
          14.333333333333334,
          14.125,
          14.741666666666667,
          13.925,
          14.183333333333332,
          13.916666666666666,
          14.141666666666666,
          14.35,
          13.866666666666667,
          14.191666666666665,
          13.641666666666666,
          14.175,
          14.383333333333333,
          14.658333333333331,
          13.658333333333331,
          13.758333333333333,
          13.783333333333331,
          15.241666666666667,
          14.591666666666669,
          14.158333333333331,
          13.625,
          14.883333333333333,
          15.508333333333333,
          14.85,
          15.558333333333335,
          15.05,
          14.275,
          14.641666666666666,
          14.558333333333332,
          14.7,
          16.336363636363636,
          16.058333333333334,
          15.975,
          16.491666666666667,
          14.8,
          16.224999999999998,
          16.23333333333333,
          11.85,
          17.085714285714285,
          17.57,
          15.925,
          17.12727272727273,
          16.766666666666666,
          16.266666666666666,
          14.6
         ]
        },
        {
         "mode": "lines",
         "name": "10 Yıl Bazlı Ortalama Sıcaklık (°C)",
         "type": "scatter",
         "x": [
          1938,
          1939,
          1940,
          1941,
          1942,
          1943,
          1944,
          1945,
          1946,
          1947,
          1948,
          1949,
          1950,
          1951,
          1952,
          1953,
          1954,
          1955,
          1956,
          1957,
          1958,
          1959,
          1960,
          1961,
          1962,
          1963,
          1964,
          1965,
          1966,
          1967,
          1968,
          1969,
          1970,
          1971,
          1972,
          1973,
          1974,
          1975,
          1976,
          1977,
          1978,
          1979,
          1980,
          1981,
          1982,
          1983,
          1984,
          1985,
          1986,
          1987,
          1988,
          1989,
          1990,
          1991,
          1992,
          1993,
          1994,
          1995,
          1996,
          1997,
          1998,
          1999,
          2000,
          2001,
          2002,
          2003,
          2004,
          2005,
          2006,
          2007,
          2008,
          2009,
          2010,
          2011,
          2012,
          2013,
          2014,
          2015,
          2016,
          2017,
          2018,
          2019,
          2020,
          2021
         ],
         "y": [
          14.440416666666668,
          14.525833333333331,
          14.405416666666667,
          14.350416666666666,
          14.154999999999998,
          14.155416666666664,
          14.10833333333333,
          14.074583333333331,
          14.086666666666668,
          14.0325,
          13.95416666666667,
          13.785,
          13.855833333333331,
          13.93375,
          14.121666666666666,
          14.096666666666668,
          14.054583333333332,
          14.129166666666666,
          13.960833333333332,
          13.909166666666668,
          13.989166666666666,
          14.005,
          14.020833333333334,
          13.98,
          13.946666666666667,
          14.055833333333334,
          14.008333333333333,
          13.90875,
          14.129583333333333,
          14.12375,
          14.0975,
          14.18,
          14.205000000000002,
          14.210833333333335,
          14.140833333333331,
          14.081666666666669,
          14.124166666666667,
          14.186666666666667,
          13.978333333333332,
          14.016666666666666,
          14.0275,
          14.105,
          14.034166666666668,
          14.0375,
          14.04,
          14.083333333333332,
          14.135833333333334,
          14.093333333333334,
          14.1775,
          14.10833333333333,
          14.113333333333332,
          14.0775,
          14.150833333333331,
          14.098333333333333,
          14.0825,
          14.046666666666669,
          14.135833333333332,
          14.208333333333332,
          14.204999999999998,
          14.203333333333331,
          14.274166666666668,
          14.386666666666668,
          14.405833333333334,
          14.595833333333337,
          14.725,
          14.774166666666664,
          14.714166666666667,
          14.710833333333335,
          14.765,
          15.036136363636365,
          15.153636363636362,
          15.20030303030303,
          15.364469696969696,
          15.288636363636362,
          15.40613636363636,
          15.601969696969698,
          15.32280303030303,
          15.575541125541124,
          15.862541125541124,
          15.821404761904764,
          15.9282987012987,
          16.007465367965366,
          15.98496536796537,
          15.964965367965368
         ]
        }
       ],
       "layout": {
        "height": 400,
        "legend": {
         "font": {
          "size": 12
         },
         "tracegroupgap": 0,
         "x": 0,
         "y": 1.2
        },
        "margin": {
         "t": 60
        },
        "template": {
         "data": {
          "bar": [
           {
            "error_x": {
             "color": "#2a3f5f"
            },
            "error_y": {
             "color": "#2a3f5f"
            },
            "marker": {
             "line": {
              "color": "#E5ECF6",
              "width": 0.5
             },
             "pattern": {
              "fillmode": "overlay",
              "size": 10,
              "solidity": 0.2
             }
            },
            "type": "bar"
           }
          ],
          "barpolar": [
           {
            "marker": {
             "line": {
              "color": "#E5ECF6",
              "width": 0.5
             },
             "pattern": {
              "fillmode": "overlay",
              "size": 10,
              "solidity": 0.2
             }
            },
            "type": "barpolar"
           }
          ],
          "carpet": [
           {
            "aaxis": {
             "endlinecolor": "#2a3f5f",
             "gridcolor": "white",
             "linecolor": "white",
             "minorgridcolor": "white",
             "startlinecolor": "#2a3f5f"
            },
            "baxis": {
             "endlinecolor": "#2a3f5f",
             "gridcolor": "white",
             "linecolor": "white",
             "minorgridcolor": "white",
             "startlinecolor": "#2a3f5f"
            },
            "type": "carpet"
           }
          ],
          "choropleth": [
           {
            "colorbar": {
             "outlinewidth": 0,
             "ticks": ""
            },
            "type": "choropleth"
           }
          ],
          "contour": [
           {
            "colorbar": {
             "outlinewidth": 0,
             "ticks": ""
            },
            "colorscale": [
             [
              0,
              "#0d0887"
             ],
             [
              0.1111111111111111,
              "#46039f"
             ],
             [
              0.2222222222222222,
              "#7201a8"
             ],
             [
              0.3333333333333333,
              "#9c179e"
             ],
             [
              0.4444444444444444,
              "#bd3786"
             ],
             [
              0.5555555555555556,
              "#d8576b"
             ],
             [
              0.6666666666666666,
              "#ed7953"
             ],
             [
              0.7777777777777778,
              "#fb9f3a"
             ],
             [
              0.8888888888888888,
              "#fdca26"
             ],
             [
              1,
              "#f0f921"
             ]
            ],
            "type": "contour"
           }
          ],
          "contourcarpet": [
           {
            "colorbar": {
             "outlinewidth": 0,
             "ticks": ""
            },
            "type": "contourcarpet"
           }
          ],
          "heatmap": [
           {
            "colorbar": {
             "outlinewidth": 0,
             "ticks": ""
            },
            "colorscale": [
             [
              0,
              "#0d0887"
             ],
             [
              0.1111111111111111,
              "#46039f"
             ],
             [
              0.2222222222222222,
              "#7201a8"
             ],
             [
              0.3333333333333333,
              "#9c179e"
             ],
             [
              0.4444444444444444,
              "#bd3786"
             ],
             [
              0.5555555555555556,
              "#d8576b"
             ],
             [
              0.6666666666666666,
              "#ed7953"
             ],
             [
              0.7777777777777778,
              "#fb9f3a"
             ],
             [
              0.8888888888888888,
              "#fdca26"
             ],
             [
              1,
              "#f0f921"
             ]
            ],
            "type": "heatmap"
           }
          ],
          "heatmapgl": [
           {
            "colorbar": {
             "outlinewidth": 0,
             "ticks": ""
            },
            "colorscale": [
             [
              0,
              "#0d0887"
             ],
             [
              0.1111111111111111,
              "#46039f"
             ],
             [
              0.2222222222222222,
              "#7201a8"
             ],
             [
              0.3333333333333333,
              "#9c179e"
             ],
             [
              0.4444444444444444,
              "#bd3786"
             ],
             [
              0.5555555555555556,
              "#d8576b"
             ],
             [
              0.6666666666666666,
              "#ed7953"
             ],
             [
              0.7777777777777778,
              "#fb9f3a"
             ],
             [
              0.8888888888888888,
              "#fdca26"
             ],
             [
              1,
              "#f0f921"
             ]
            ],
            "type": "heatmapgl"
           }
          ],
          "histogram": [
           {
            "marker": {
             "pattern": {
              "fillmode": "overlay",
              "size": 10,
              "solidity": 0.2
             }
            },
            "type": "histogram"
           }
          ],
          "histogram2d": [
           {
            "colorbar": {
             "outlinewidth": 0,
             "ticks": ""
            },
            "colorscale": [
             [
              0,
              "#0d0887"
             ],
             [
              0.1111111111111111,
              "#46039f"
             ],
             [
              0.2222222222222222,
              "#7201a8"
             ],
             [
              0.3333333333333333,
              "#9c179e"
             ],
             [
              0.4444444444444444,
              "#bd3786"
             ],
             [
              0.5555555555555556,
              "#d8576b"
             ],
             [
              0.6666666666666666,
              "#ed7953"
             ],
             [
              0.7777777777777778,
              "#fb9f3a"
             ],
             [
              0.8888888888888888,
              "#fdca26"
             ],
             [
              1,
              "#f0f921"
             ]
            ],
            "type": "histogram2d"
           }
          ],
          "histogram2dcontour": [
           {
            "colorbar": {
             "outlinewidth": 0,
             "ticks": ""
            },
            "colorscale": [
             [
              0,
              "#0d0887"
             ],
             [
              0.1111111111111111,
              "#46039f"
             ],
             [
              0.2222222222222222,
              "#7201a8"
             ],
             [
              0.3333333333333333,
              "#9c179e"
             ],
             [
              0.4444444444444444,
              "#bd3786"
             ],
             [
              0.5555555555555556,
              "#d8576b"
             ],
             [
              0.6666666666666666,
              "#ed7953"
             ],
             [
              0.7777777777777778,
              "#fb9f3a"
             ],
             [
              0.8888888888888888,
              "#fdca26"
             ],
             [
              1,
              "#f0f921"
             ]
            ],
            "type": "histogram2dcontour"
           }
          ],
          "mesh3d": [
           {
            "colorbar": {
             "outlinewidth": 0,
             "ticks": ""
            },
            "type": "mesh3d"
           }
          ],
          "parcoords": [
           {
            "line": {
             "colorbar": {
              "outlinewidth": 0,
              "ticks": ""
             }
            },
            "type": "parcoords"
           }
          ],
          "pie": [
           {
            "automargin": true,
            "type": "pie"
           }
          ],
          "scatter": [
           {
            "fillpattern": {
             "fillmode": "overlay",
             "size": 10,
             "solidity": 0.2
            },
            "type": "scatter"
           }
          ],
          "scatter3d": [
           {
            "line": {
             "colorbar": {
              "outlinewidth": 0,
              "ticks": ""
             }
            },
            "marker": {
             "colorbar": {
              "outlinewidth": 0,
              "ticks": ""
             }
            },
            "type": "scatter3d"
           }
          ],
          "scattercarpet": [
           {
            "marker": {
             "colorbar": {
              "outlinewidth": 0,
              "ticks": ""
             }
            },
            "type": "scattercarpet"
           }
          ],
          "scattergeo": [
           {
            "marker": {
             "colorbar": {
              "outlinewidth": 0,
              "ticks": ""
             }
            },
            "type": "scattergeo"
           }
          ],
          "scattergl": [
           {
            "marker": {
             "colorbar": {
              "outlinewidth": 0,
              "ticks": ""
             }
            },
            "type": "scattergl"
           }
          ],
          "scattermapbox": [
           {
            "marker": {
             "colorbar": {
              "outlinewidth": 0,
              "ticks": ""
             }
            },
            "type": "scattermapbox"
           }
          ],
          "scatterpolar": [
           {
            "marker": {
             "colorbar": {
              "outlinewidth": 0,
              "ticks": ""
             }
            },
            "type": "scatterpolar"
           }
          ],
          "scatterpolargl": [
           {
            "marker": {
             "colorbar": {
              "outlinewidth": 0,
              "ticks": ""
             }
            },
            "type": "scatterpolargl"
           }
          ],
          "scatterternary": [
           {
            "marker": {
             "colorbar": {
              "outlinewidth": 0,
              "ticks": ""
             }
            },
            "type": "scatterternary"
           }
          ],
          "surface": [
           {
            "colorbar": {
             "outlinewidth": 0,
             "ticks": ""
            },
            "colorscale": [
             [
              0,
              "#0d0887"
             ],
             [
              0.1111111111111111,
              "#46039f"
             ],
             [
              0.2222222222222222,
              "#7201a8"
             ],
             [
              0.3333333333333333,
              "#9c179e"
             ],
             [
              0.4444444444444444,
              "#bd3786"
             ],
             [
              0.5555555555555556,
              "#d8576b"
             ],
             [
              0.6666666666666666,
              "#ed7953"
             ],
             [
              0.7777777777777778,
              "#fb9f3a"
             ],
             [
              0.8888888888888888,
              "#fdca26"
             ],
             [
              1,
              "#f0f921"
             ]
            ],
            "type": "surface"
           }
          ],
          "table": [
           {
            "cells": {
             "fill": {
              "color": "#EBF0F8"
             },
             "line": {
              "color": "white"
             }
            },
            "header": {
             "fill": {
              "color": "#C8D4E3"
             },
             "line": {
              "color": "white"
             }
            },
            "type": "table"
           }
          ]
         },
         "layout": {
          "annotationdefaults": {
           "arrowcolor": "#2a3f5f",
           "arrowhead": 0,
           "arrowwidth": 1
          },
          "autotypenumbers": "strict",
          "coloraxis": {
           "colorbar": {
            "outlinewidth": 0,
            "ticks": ""
           }
          },
          "colorscale": {
           "diverging": [
            [
             0,
             "#8e0152"
            ],
            [
             0.1,
             "#c51b7d"
            ],
            [
             0.2,
             "#de77ae"
            ],
            [
             0.3,
             "#f1b6da"
            ],
            [
             0.4,
             "#fde0ef"
            ],
            [
             0.5,
             "#f7f7f7"
            ],
            [
             0.6,
             "#e6f5d0"
            ],
            [
             0.7,
             "#b8e186"
            ],
            [
             0.8,
             "#7fbc41"
            ],
            [
             0.9,
             "#4d9221"
            ],
            [
             1,
             "#276419"
            ]
           ],
           "sequential": [
            [
             0,
             "#0d0887"
            ],
            [
             0.1111111111111111,
             "#46039f"
            ],
            [
             0.2222222222222222,
             "#7201a8"
            ],
            [
             0.3333333333333333,
             "#9c179e"
            ],
            [
             0.4444444444444444,
             "#bd3786"
            ],
            [
             0.5555555555555556,
             "#d8576b"
            ],
            [
             0.6666666666666666,
             "#ed7953"
            ],
            [
             0.7777777777777778,
             "#fb9f3a"
            ],
            [
             0.8888888888888888,
             "#fdca26"
            ],
            [
             1,
             "#f0f921"
            ]
           ],
           "sequentialminus": [
            [
             0,
             "#0d0887"
            ],
            [
             0.1111111111111111,
             "#46039f"
            ],
            [
             0.2222222222222222,
             "#7201a8"
            ],
            [
             0.3333333333333333,
             "#9c179e"
            ],
            [
             0.4444444444444444,
             "#bd3786"
            ],
            [
             0.5555555555555556,
             "#d8576b"
            ],
            [
             0.6666666666666666,
             "#ed7953"
            ],
            [
             0.7777777777777778,
             "#fb9f3a"
            ],
            [
             0.8888888888888888,
             "#fdca26"
            ],
            [
             1,
             "#f0f921"
            ]
           ]
          },
          "colorway": [
           "#636efa",
           "#EF553B",
           "#00cc96",
           "#ab63fa",
           "#FFA15A",
           "#19d3f3",
           "#FF6692",
           "#B6E880",
           "#FF97FF",
           "#FECB52"
          ],
          "font": {
           "color": "#2a3f5f"
          },
          "geo": {
           "bgcolor": "white",
           "lakecolor": "white",
           "landcolor": "#E5ECF6",
           "showlakes": true,
           "showland": true,
           "subunitcolor": "white"
          },
          "hoverlabel": {
           "align": "left"
          },
          "hovermode": "closest",
          "mapbox": {
           "style": "light"
          },
          "paper_bgcolor": "white",
          "plot_bgcolor": "#E5ECF6",
          "polar": {
           "angularaxis": {
            "gridcolor": "white",
            "linecolor": "white",
            "ticks": ""
           },
           "bgcolor": "#E5ECF6",
           "radialaxis": {
            "gridcolor": "white",
            "linecolor": "white",
            "ticks": ""
           }
          },
          "scene": {
           "xaxis": {
            "backgroundcolor": "#E5ECF6",
            "gridcolor": "white",
            "gridwidth": 2,
            "linecolor": "white",
            "showbackground": true,
            "ticks": "",
            "zerolinecolor": "white"
           },
           "yaxis": {
            "backgroundcolor": "#E5ECF6",
            "gridcolor": "white",
            "gridwidth": 2,
            "linecolor": "white",
            "showbackground": true,
            "ticks": "",
            "zerolinecolor": "white"
           },
           "zaxis": {
            "backgroundcolor": "#E5ECF6",
            "gridcolor": "white",
            "gridwidth": 2,
            "linecolor": "white",
            "showbackground": true,
            "ticks": "",
            "zerolinecolor": "white"
           }
          },
          "shapedefaults": {
           "line": {
            "color": "#2a3f5f"
           }
          },
          "ternary": {
           "aaxis": {
            "gridcolor": "white",
            "linecolor": "white",
            "ticks": ""
           },
           "baxis": {
            "gridcolor": "white",
            "linecolor": "white",
            "ticks": ""
           },
           "bgcolor": "#E5ECF6",
           "caxis": {
            "gridcolor": "white",
            "linecolor": "white",
            "ticks": ""
           }
          },
          "title": {
           "x": 0.05
          },
          "xaxis": {
           "automargin": true,
           "gridcolor": "white",
           "linecolor": "white",
           "ticks": "",
           "title": {
            "standoff": 15
           },
           "zerolinecolor": "white",
           "zerolinewidth": 2
          },
          "yaxis": {
           "automargin": true,
           "gridcolor": "white",
           "linecolor": "white",
           "ticks": "",
           "title": {
            "standoff": 15
           },
           "zerolinecolor": "white",
           "zerolinewidth": 2
          }
         }
        },
        "title": {
         "font": {
          "size": 30
         }
        },
        "width": 800,
        "xaxis": {
         "anchor": "y",
         "autorange": true,
         "domain": [
          0,
          1
         ],
         "dtick": 5,
         "range": [
          1938,
          2021
         ],
         "tickfont": {
          "size": 15
         },
         "title": {
          "text": "Yıl"
         },
         "type": "linear"
        },
        "yaxis": {
         "anchor": "x",
         "autorange": true,
         "domain": [
          0,
          1
         ],
         "dtick": 1,
         "range": [
          11.532222222222222,
          17.887777777777778
         ],
         "tickfont": {
          "size": 15
         },
         "title": {
          "text": "Sıcaklık (°C)"
         },
         "type": "linear"
        }
       }
      },
      "image/png": "[encoded data removed]",
      "text/html": [
       "<div>                            <div id=\"1ed400b0-e795-4d2d-b318-17781114fa68\" class=\"plotly-graph-div\" style=\"height:400px; width:800px;\"></div>            <script type=\"text/javascript\">                require([\"plotly\"], function(Plotly) {                    window.PLOTLYENV=window.PLOTLYENV || {};                                    if (document.getElementById(\"1ed400b0-e795-4d2d-b318-17781114fa68\")) {                    Plotly.newPlot(                        \"1ed400b0-e795-4d2d-b318-17781114fa68\",                        [{\"hovertemplate\":\"<extra></extra>\",\"legendgroup\":\"\",\"line\":{\"color\":\"#636efa\",\"dash\":\"solid\"},\"marker\":{\"symbol\":\"circle\"},\"mode\":\"lines\",\"name\":\"\",\"orientation\":\"v\",\"showlegend\":false,\"xaxis\":\"x\",\"yaxis\":\"y\",\"type\":\"scatter\"},{\"mode\":\"lines\",\"name\":\"Ortalama S\\u0131cakl\\u0131k (\\u00b0C)\",\"x\":[1938,1939,1940,1941,1942,1943,1944,1945,1946,1947,1948,1949,1950,1951,1952,1953,1954,1955,1956,1957,1958,1959,1960,1961,1962,1963,1964,1965,1966,1967,1968,1969,1970,1971,1972,1973,1974,1975,1976,1977,1978,1979,1980,1981,1982,1983,1984,1985,1986,1987,1988,1989,1990,1991,1992,1993,1994,1995,1996,1997,1998,1999,2000,2001,2002,2003,2004,2005,2006,2007,2008,2009,2010,2011,2012,2013,2014,2015,2016,2017,2018,2019,2020,2021],\"y\":[14.2625,14.675,13.516666666666666,13.720833333333331,13.045833333333333,13.458333333333334,14.295833333333334,13.916666666666666,14.908333333333331,14.525,13.479166666666666,12.983333333333334,14.225,14.5,14.925,13.208333333333334,13.875,14.6625,13.225,14.008333333333333,14.279166666666669,13.141666666666666,14.383333333333333,14.091666666666669,14.591666666666669,14.3,13.4,13.666666666666666,15.433333333333332,13.95,14.016666666666666,13.966666666666669,14.633333333333333,14.15,13.891666666666666,13.708333333333334,13.825,14.291666666666666,13.35,14.333333333333334,14.125,14.741666666666667,13.925,14.183333333333332,13.916666666666666,14.141666666666666,14.35,13.866666666666667,14.191666666666665,13.641666666666666,14.175,14.383333333333333,14.658333333333331,13.658333333333331,13.758333333333333,13.783333333333331,15.241666666666667,14.591666666666669,14.158333333333331,13.625,14.883333333333333,15.508333333333333,14.85,15.558333333333335,15.05,14.275,14.641666666666666,14.558333333333332,14.7,16.336363636363636,16.058333333333334,15.975,16.491666666666667,14.8,16.224999999999998,16.23333333333333,11.85,17.085714285714285,17.57,15.925,17.12727272727273,16.766666666666666,16.266666666666666,14.6],\"type\":\"scatter\"},{\"mode\":\"lines\",\"name\":\"10 Y\\u0131l Bazl\\u0131 Ortalama S\\u0131cakl\\u0131k (\\u00b0C)\",\"x\":[1938,1939,1940,1941,1942,1943,1944,1945,1946,1947,1948,1949,1950,1951,1952,1953,1954,1955,1956,1957,1958,1959,1960,1961,1962,1963,1964,1965,1966,1967,1968,1969,1970,1971,1972,1973,1974,1975,1976,1977,1978,1979,1980,1981,1982,1983,1984,1985,1986,1987,1988,1989,1990,1991,1992,1993,1994,1995,1996,1997,1998,1999,2000,2001,2002,2003,2004,2005,2006,2007,2008,2009,2010,2011,2012,2013,2014,2015,2016,2017,2018,2019,2020,2021],\"y\":[14.440416666666668,14.525833333333331,14.405416666666667,14.350416666666666,14.154999999999998,14.155416666666664,14.10833333333333,14.074583333333331,14.086666666666668,14.0325,13.95416666666667,13.785,13.855833333333331,13.93375,14.121666666666666,14.096666666666668,14.054583333333332,14.129166666666666,13.960833333333332,13.909166666666668,13.989166666666666,14.005,14.020833333333334,13.98,13.946666666666667,14.055833333333334,14.008333333333333,13.90875,14.129583333333333,14.12375,14.0975,14.18,14.205000000000002,14.210833333333335,14.140833333333331,14.081666666666669,14.124166666666667,14.186666666666667,13.978333333333332,14.016666666666666,14.0275,14.105,14.034166666666668,14.0375,14.04,14.083333333333332,14.135833333333334,14.093333333333334,14.1775,14.10833333333333,14.113333333333332,14.0775,14.150833333333331,14.098333333333333,14.0825,14.046666666666669,14.135833333333332,14.208333333333332,14.204999999999998,14.203333333333331,14.274166666666668,14.386666666666668,14.405833333333334,14.595833333333337,14.725,14.774166666666664,14.714166666666667,14.710833333333335,14.765,15.036136363636365,15.153636363636362,15.20030303030303,15.364469696969696,15.288636363636362,15.40613636363636,15.601969696969698,15.32280303030303,15.575541125541124,15.862541125541124,15.821404761904764,15.9282987012987,16.007465367965366,15.98496536796537,15.964965367965368],\"type\":\"scatter\"}],                        {\"template\":{\"data\":{\"histogram2dcontour\":[{\"type\":\"histogram2dcontour\",\"colorbar\":{\"outlinewidth\":0,\"ticks\":\"\"},\"colorscale\":[[0.0,\"#0d0887\"],[0.1111111111111111,\"#46039f\"],[0.2222222222222222,\"#7201a8\"],[0.3333333333333333,\"#9c179e\"],[0.4444444444444444,\"#bd3786\"],[0.5555555555555556,\"#d8576b\"],[0.6666666666666666,\"#ed7953\"],[0.7777777777777778,\"#fb9f3a\"],[0.8888888888888888,\"#fdca26\"],[1.0,\"#f0f921\"]]}],\"choropleth\":[{\"type\":\"choropleth\",\"colorbar\":{\"outlinewidth\":0,\"ticks\":\"\"}}],\"histogram2d\":[{\"type\":\"histogram2d\",\"colorbar\":{\"outlinewidth\":0,\"ticks\":\"\"},\"colorscale\":[[0.0,\"#0d0887\"],[0.1111111111111111,\"#46039f\"],[0.2222222222222222,\"#7201a8\"],[0.3333333333333333,\"#9c179e\"],[0.4444444444444444,\"#bd3786\"],[0.5555555555555556,\"#d8576b\"],[0.6666666666666666,\"#ed7953\"],[0.7777777777777778,\"#fb9f3a\"],[0.8888888888888888,\"#fdca26\"],[1.0,\"#f0f921\"]]}],\"heatmap\":[{\"type\":\"heatmap\",\"colorbar\":{\"outlinewidth\":0,\"ticks\":\"\"},\"colorscale\":[[0.0,\"#0d0887\"],[0.1111111111111111,\"#46039f\"],[0.2222222222222222,\"#7201a8\"],[0.3333333333333333,\"#9c179e\"],[0.4444444444444444,\"#bd3786\"],[0.5555555555555556,\"#d8576b\"],[0.6666666666666666,\"#ed7953\"],[0.7777777777777778,\"#fb9f3a\"],[0.8888888888888888,\"#fdca26\"],[1.0,\"#f0f921\"]]}],\"heatmapgl\":[{\"type\":\"heatmapgl\",\"colorbar\":{\"outlinewidth\":0,\"ticks\":\"\"},\"colorscale\":[[0.0,\"#0d0887\"],[0.1111111111111111,\"#46039f\"],[0.2222222222222222,\"#7201a8\"],[0.3333333333333333,\"#9c179e\"],[0.4444444444444444,\"#bd3786\"],[0.5555555555555556,\"#d8576b\"],[0.6666666666666666,\"#ed7953\"],[0.7777777777777778,\"#fb9f3a\"],[0.8888888888888888,\"#fdca26\"],[1.0,\"#f0f921\"]]}],\"contourcarpet\":[{\"type\":\"contourcarpet\",\"colorbar\":{\"outlinewidth\":0,\"ticks\":\"\"}}],\"contour\":[{\"type\":\"contour\",\"colorbar\":{\"outlinewidth\":0,\"ticks\":\"\"},\"colorscale\":[[0.0,\"#0d0887\"],[0.1111111111111111,\"#46039f\"],[0.2222222222222222,\"#7201a8\"],[0.3333333333333333,\"#9c179e\"],[0.4444444444444444,\"#bd3786\"],[0.5555555555555556,\"#d8576b\"],[0.6666666666666666,\"#ed7953\"],[0.7777777777777778,\"#fb9f3a\"],[0.8888888888888888,\"#fdca26\"],[1.0,\"#f0f921\"]]}],\"surface\":[{\"type\":\"surface\",\"colorbar\":{\"outlinewidth\":0,\"ticks\":\"\"},\"colorscale\":[[0.0,\"#0d0887\"],[0.1111111111111111,\"#46039f\"],[0.2222222222222222,\"#7201a8\"],[0.3333333333333333,\"#9c179e\"],[0.4444444444444444,\"#bd3786\"],[0.5555555555555556,\"#d8576b\"],[0.6666666666666666,\"#ed7953\"],[0.7777777777777778,\"#fb9f3a\"],[0.8888888888888888,\"#fdca26\"],[1.0,\"#f0f921\"]]}],\"mesh3d\":[{\"type\":\"mesh3d\",\"colorbar\":{\"outlinewidth\":0,\"ticks\":\"\"}}],\"scatter\":[{\"fillpattern\":{\"fillmode\":\"overlay\",\"size\":10,\"solidity\":0.2},\"type\":\"scatter\"}],\"parcoords\":[{\"type\":\"parcoords\",\"line\":{\"colorbar\":{\"outlinewidth\":0,\"ticks\":\"\"}}}],\"scatterpolargl\":[{\"type\":\"scatterpolargl\",\"marker\":{\"colorbar\":{\"outlinewidth\":0,\"ticks\":\"\"}}}],\"bar\":[{\"error_x\":{\"color\":\"#2a3f5f\"},\"error_y\":{\"color\":\"#2a3f5f\"},\"marker\":{\"line\":{\"color\":\"#E5ECF6\",\"width\":0.5},\"pattern\":{\"fillmode\":\"overlay\",\"size\":10,\"solidity\":0.2}},\"type\":\"bar\"}],\"scattergeo\":[{\"type\":\"scattergeo\",\"marker\":{\"colorbar\":{\"outlinewidth\":0,\"ticks\":\"\"}}}],\"scatterpolar\":[{\"type\":\"scatterpolar\",\"marker\":{\"colorbar\":{\"outlinewidth\":0,\"ticks\":\"\"}}}],\"histogram\":[{\"marker\":{\"pattern\":{\"fillmode\":\"overlay\",\"size\":10,\"solidity\":0.2}},\"type\":\"histogram\"}],\"scattergl\":[{\"type\":\"scattergl\",\"marker\":{\"colorbar\":{\"outlinewidth\":0,\"ticks\":\"\"}}}],\"scatter3d\":[{\"type\":\"scatter3d\",\"line\":{\"colorbar\":{\"outlinewidth\":0,\"ticks\":\"\"}},\"marker\":{\"colorbar\":{\"outlinewidth\":0,\"ticks\":\"\"}}}],\"scattermapbox\":[{\"type\":\"scattermapbox\",\"marker\":{\"colorbar\":{\"outlinewidth\":0,\"ticks\":\"\"}}}],\"scatterternary\":[{\"type\":\"scatterternary\",\"marker\":{\"colorbar\":{\"outlinewidth\":0,\"ticks\":\"\"}}}],\"scattercarpet\":[{\"type\":\"scattercarpet\",\"marker\":{\"colorbar\":{\"outlinewidth\":0,\"ticks\":\"\"}}}],\"carpet\":[{\"aaxis\":{\"endlinecolor\":\"#2a3f5f\",\"gridcolor\":\"white\",\"linecolor\":\"white\",\"minorgridcolor\":\"white\",\"startlinecolor\":\"#2a3f5f\"},\"baxis\":{\"endlinecolor\":\"#2a3f5f\",\"gridcolor\":\"white\",\"linecolor\":\"white\",\"minorgridcolor\":\"white\",\"startlinecolor\":\"#2a3f5f\"},\"type\":\"carpet\"}],\"table\":[{\"cells\":{\"fill\":{\"color\":\"#EBF0F8\"},\"line\":{\"color\":\"white\"}},\"header\":{\"fill\":{\"color\":\"#C8D4E3\"},\"line\":{\"color\":\"white\"}},\"type\":\"table\"}],\"barpolar\":[{\"marker\":{\"line\":{\"color\":\"#E5ECF6\",\"width\":0.5},\"pattern\":{\"fillmode\":\"overlay\",\"size\":10,\"solidity\":0.2}},\"type\":\"barpolar\"}],\"pie\":[{\"automargin\":true,\"type\":\"pie\"}]},\"layout\":{\"autotypenumbers\":\"strict\",\"colorway\":[\"#636efa\",\"#EF553B\",\"#00cc96\",\"#ab63fa\",\"#FFA15A\",\"#19d3f3\",\"#FF6692\",\"#B6E880\",\"#FF97FF\",\"#FECB52\"],\"font\":{\"color\":\"#2a3f5f\"},\"hovermode\":\"closest\",\"hoverlabel\":{\"align\":\"left\"},\"paper_bgcolor\":\"white\",\"plot_bgcolor\":\"#E5ECF6\",\"polar\":{\"bgcolor\":\"#E5ECF6\",\"angularaxis\":{\"gridcolor\":\"white\",\"linecolor\":\"white\",\"ticks\":\"\"},\"radialaxis\":{\"gridcolor\":\"white\",\"linecolor\":\"white\",\"ticks\":\"\"}},\"ternary\":{\"bgcolor\":\"#E5ECF6\",\"aaxis\":{\"gridcolor\":\"white\",\"linecolor\":\"white\",\"ticks\":\"\"},\"baxis\":{\"gridcolor\":\"white\",\"linecolor\":\"white\",\"ticks\":\"\"},\"caxis\":{\"gridcolor\":\"white\",\"linecolor\":\"white\",\"ticks\":\"\"}},\"coloraxis\":{\"colorbar\":{\"outlinewidth\":0,\"ticks\":\"\"}},\"colorscale\":{\"sequential\":[[0.0,\"#0d0887\"],[0.1111111111111111,\"#46039f\"],[0.2222222222222222,\"#7201a8\"],[0.3333333333333333,\"#9c179e\"],[0.4444444444444444,\"#bd3786\"],[0.5555555555555556,\"#d8576b\"],[0.6666666666666666,\"#ed7953\"],[0.7777777777777778,\"#fb9f3a\"],[0.8888888888888888,\"#fdca26\"],[1.0,\"#f0f921\"]],\"sequentialminus\":[[0.0,\"#0d0887\"],[0.1111111111111111,\"#46039f\"],[0.2222222222222222,\"#7201a8\"],[0.3333333333333333,\"#9c179e\"],[0.4444444444444444,\"#bd3786\"],[0.5555555555555556,\"#d8576b\"],[0.6666666666666666,\"#ed7953\"],[0.7777777777777778,\"#fb9f3a\"],[0.8888888888888888,\"#fdca26\"],[1.0,\"#f0f921\"]],\"diverging\":[[0,\"#8e0152\"],[0.1,\"#c51b7d\"],[0.2,\"#de77ae\"],[0.3,\"#f1b6da\"],[0.4,\"#fde0ef\"],[0.5,\"#f7f7f7\"],[0.6,\"#e6f5d0\"],[0.7,\"#b8e186\"],[0.8,\"#7fbc41\"],[0.9,\"#4d9221\"],[1,\"#276419\"]]},\"xaxis\":{\"gridcolor\":\"white\",\"linecolor\":\"white\",\"ticks\":\"\",\"title\":{\"standoff\":15},\"zerolinecolor\":\"white\",\"automargin\":true,\"zerolinewidth\":2},\"yaxis\":{\"gridcolor\":\"white\",\"linecolor\":\"white\",\"ticks\":\"\",\"title\":{\"standoff\":15},\"zerolinecolor\":\"white\",\"automargin\":true,\"zerolinewidth\":2},\"scene\":{\"xaxis\":{\"backgroundcolor\":\"#E5ECF6\",\"gridcolor\":\"white\",\"linecolor\":\"white\",\"showbackground\":true,\"ticks\":\"\",\"zerolinecolor\":\"white\",\"gridwidth\":2},\"yaxis\":{\"backgroundcolor\":\"#E5ECF6\",\"gridcolor\":\"white\",\"linecolor\":\"white\",\"showbackground\":true,\"ticks\":\"\",\"zerolinecolor\":\"white\",\"gridwidth\":2},\"zaxis\":{\"backgroundcolor\":\"#E5ECF6\",\"gridcolor\":\"white\",\"linecolor\":\"white\",\"showbackground\":true,\"ticks\":\"\",\"zerolinecolor\":\"white\",\"gridwidth\":2}},\"shapedefaults\":{\"line\":{\"color\":\"#2a3f5f\"}},\"annotationdefaults\":{\"arrowcolor\":\"#2a3f5f\",\"arrowhead\":0,\"arrowwidth\":1},\"geo\":{\"bgcolor\":\"white\",\"landcolor\":\"#E5ECF6\",\"subunitcolor\":\"white\",\"showland\":true,\"showlakes\":true,\"lakecolor\":\"white\"},\"title\":{\"x\":0.05},\"mapbox\":{\"style\":\"light\"}}},\"xaxis\":{\"anchor\":\"y\",\"domain\":[0.0,1.0],\"tickfont\":{\"size\":15},\"title\":{\"text\":\"Y\\u0131l\"},\"dtick\":5},\"yaxis\":{\"anchor\":\"x\",\"domain\":[0.0,1.0],\"tickfont\":{\"size\":15},\"title\":{\"text\":\"S\\u0131cakl\\u0131k (\\u00b0C)\"},\"dtick\":1},\"legend\":{\"tracegroupgap\":0,\"font\":{\"size\":12},\"x\":0,\"y\":1.2},\"margin\":{\"t\":60},\"title\":{\"font\":{\"size\":30}},\"width\":800,\"height\":400},                        {\"responsive\": true}                    ).then(function(){\n",
       "                            \n",
       "var gd = document.getElementById('1ed400b0-e795-4d2d-b318-17781114fa68');\n",
       "var x = new MutationObserver(function (mutations, observer) {{\n",
       "        var display = window.getComputedStyle(gd).display;\n",
       "        if (!display || display === 'none') {{\n",
       "            console.log([gd, 'removed!']);\n",
       "            Plotly.purge(gd);\n",
       "            observer.disconnect();\n",
       "        }}\n",
       "}});\n",
       "\n",
       "// Listen for the removal of the full notebook cells\n",
       "var notebookContainer = gd.closest('#notebook-container');\n",
       "if (notebookContainer) {{\n",
       "    x.observe(notebookContainer, {childList: true});\n",
       "}}\n",
       "\n",
       "// Listen for the clearing of the current output cell\n",
       "var outputEl = gd.closest('.output');\n",
       "if (outputEl) {{\n",
       "    x.observe(outputEl, {childList: true});\n",
       "}}\n",
       "\n",
       "                        })                };                });            </script>        </div>"
      ]
     },
     "metadata": {},
     "output_type": "display_data"
    }
   ],
   "source": [
    "\n",
    "# İlk çizgiyi çizin\n",
    "fig = px.line()\n",
    "\n",
    "# İkinci çizgiyi çizin ve mevcut grafiğe ekleyin\n",
    "fig.add_scatter(x=sicaklik_reel['year'], y=sicaklik_reel['tavg'], mode='lines', name='Ortalama Sıcaklık (°C)')\n",
    "fig.add_scatter(x=sicaklik_reel['year'], y=sicaklik_reel['sicaklik'], mode='lines', name='10 Yıl Bazlı Ortalama Sıcaklık (°C)')\n",
    "\n",
    "# Grafiği özelleştir\n",
    "fig.update_layout(\n",
    "    width=800,   # Genişlik\n",
    "    height=400,  # Yükseklik\n",
    "    xaxis_title=\"Yıl\",  # X ekseni başlığı\n",
    "    yaxis_title=\"Sıcaklık (°C)\",  # Y ekseni başlığı\n",
    "    title_font=dict(size=30),  # Başlık font boyutu\n",
    "    xaxis=dict(tickfont=dict(size=15), dtick=5),  # X ekseni etiket font boyutu ve daha sık yıl gösterimi\n",
    "    yaxis=dict(tickfont=dict(size=15), dtick=1),  # Y ekseni etiket font boyutu ve daha sık sıcaklık gösterimi\n",
    "    legend=dict(font=dict(size=12), x=0, y=1.2),  # Legend font boyutu ve üst orta konum\n",
    ")\n",
    "\n",
    "# Grafiği göster\n",
    "fig.show()\n"
   ]
  },
  {
   "cell_type": "code",
   "execution_count": 76,
   "id": "9badd4be-39ca-42eb-9acb-41f7606a1adb",
   "metadata": {},
   "outputs": [
    {
     "data": {
      "text/html": [
       "\n",
       "        <iframe\n",
       "            width=\"100%\"\n",
       "            height=\"650\"\n",
       "            src=\"http://127.0.0.1:8050/\"\n",
       "            frameborder=\"0\"\n",
       "            allowfullscreen\n",
       "            \n",
       "        ></iframe>\n",
       "        "
      ],
      "text/plain": [
       "<IPython.lib.display.IFrame at 0x20069c5b0a0>"
      ]
     },
     "metadata": {},
     "output_type": "display_data"
    }
   ],
   "source": [
    "# Initialize the Dash app\n",
    "app = dash.Dash(__name__)\n",
    "\n",
    "# Define the app layout\n",
    "app.layout = html.Div([\n",
    "    html.H1(\"Sıcaklık Grafiği\"),\n",
    "    dcc.Graph(id='temperature-plot'),\n",
    "    dcc.RangeSlider(\n",
    "        id='year-slider',\n",
    "        min=sicaklik_reel['year'].min(),\n",
    "        max=sicaklik_reel['year'].max(),\n",
    "        step=1,  # Set the step value to control the number of marks\n",
    "        marks={str(year): str(year) for year in sicaklik_reel['year'] if year % 5 == 0},  # Display marks for every 5 years\n",
    "        value=[sicaklik_reel['year'].min(), sicaklik_reel['year'].max()],\n",
    "    ),\n",
    "    dcc.Checklist(\n",
    "        id='average-temperature-checkbox',\n",
    "        options=[\n",
    "            {'label': 'Ortalama Sıcaklık Göster', 'value': 'show-average-temperature'}\n",
    "        ],\n",
    "        value=['show-average-temperature']\n",
    "    )\n",
    "])\n",
    "\n",
    "# Define the callback to update the plot based on the selected years and checkbox state\n",
    "@app.callback(\n",
    "    Output('temperature-plot', 'figure'),\n",
    "    [Input('year-slider', 'value'),\n",
    "     Input('average-temperature-checkbox', 'value')]\n",
    ")\n",
    "def update_plot(selected_years, checkbox_value):\n",
    "    filtered_data = sicaklik_reel[(sicaklik_reel['year'] >= selected_years[0]) & (sicaklik_reel['year'] <= selected_years[1])]\n",
    "\n",
    "    fig = go.Figure()\n",
    "    \n",
    "    if 'show-average-temperature' in checkbox_value:\n",
    "        fig.add_trace(go.Scatter(x=filtered_data['year'], y=filtered_data['tavg'], mode='lines', name='Ortalama Sıcaklık (°C)'))\n",
    "    \n",
    "    fig.add_trace(go.Scatter(x=filtered_data['year'], y=filtered_data['sicaklik'], mode='lines', name='10 Yıl Bazlı Ortalama Sıcaklık (°C)'))\n",
    "\n",
    "    fig.update_layout(\n",
    "        height=600,\n",
    "        xaxis_title=\"Yıl\",\n",
    "        yaxis_title=\"Sıcaklık (°C)\",\n",
    "        title_font=dict(size=30),\n",
    "        xaxis=dict(tickfont=dict(size=15), dtick=5),\n",
    "        yaxis=dict(tickfont=dict(size=15), dtick=1),\n",
    "        legend=dict(font=dict(size=12), x=0, y=1.2),\n",
    "    )\n",
    "\n",
    "    return fig\n",
    "\n",
    "# Run the app\n",
    "if __name__ == '__main__':\n",
    "    app.run_server(debug=True)\n"
   ]
  },
  {
   "cell_type": "code",
   "execution_count": 79,
   "id": "2ff08919-2c36-40c0-a3ff-faea27530a7c",
   "metadata": {
    "tags": []
   },
   "outputs": [
    {
     "data": {
      "text/html": [
       "\n",
       "        <iframe\n",
       "            width=\"100%\"\n",
       "            height=\"650\"\n",
       "            src=\"http://127.0.0.1:8050/\"\n",
       "            frameborder=\"0\"\n",
       "            allowfullscreen\n",
       "            \n",
       "        ></iframe>\n",
       "        "
      ],
      "text/plain": [
       "<IPython.lib.display.IFrame at 0x2006a1be4f0>"
      ]
     },
     "metadata": {},
     "output_type": "display_data"
    }
   ],
   "source": [
    "# Initialize the Dash app\n",
    "app = dash.Dash(__name__)\n",
    "\n",
    "# Define the app layout\n",
    "app.layout = html.Div([\n",
    "    html.H1(\"Sıcaklık Grafiği\"),\n",
    "    dcc.Graph(id='temperature-plot'),\n",
    "    dcc.RangeSlider(\n",
    "        id='year-slider',\n",
    "        min=sicaklik_reel['year'].min(),\n",
    "        max=sicaklik_reel['year'].max(),\n",
    "        step=1,\n",
    "        marks={str(year): str(year) for year in sicaklik_reel['year'] if year % 5 == 0},\n",
    "        value=[sicaklik_reel['year'].min(), sicaklik_reel['year'].max()],\n",
    "    ),\n",
    "    dcc.Checklist(\n",
    "        id='average-temperature-checkbox',\n",
    "        options=[\n",
    "            {'label': 'Ortalama Sıcaklık Göster', 'value': 'show-average-temperature'}\n",
    "        ],\n",
    "        value=['show-average-temperature']\n",
    "    ),\n",
    "    dcc.Checklist(\n",
    "        id='emission-checkbox',\n",
    "        options=[\n",
    "            {'label': 'Emisyon Verilerini Göster', 'value': 'show-emission'}\n",
    "        ],\n",
    "        value=['show-emission']\n",
    "    )\n",
    "])\n",
    "\n",
    "# Define the callback to update the plot based on the selected years and checkbox state\n",
    "@app.callback(\n",
    "    Output('temperature-plot', 'figure'),\n",
    "    [Input('year-slider', 'value'),\n",
    "     Input('average-temperature-checkbox', 'value'),\n",
    "     Input('emission-checkbox', 'value')]\n",
    ")\n",
    "def update_plot(selected_years, avg_temp_checkbox_value, emission_checkbox_value):\n",
    "    filtered_data = sicaklik_reel[(sicaklik_reel['year'] >= selected_years[0]) & (sicaklik_reel['year'] <= selected_years[1])]\n",
    "\n",
    "    fig = go.Figure()\n",
    "\n",
    "    if 'show-average-temperature' in avg_temp_checkbox_value:\n",
    "        fig.add_trace(go.Scatter(x=filtered_data['year'], y=filtered_data['tavg'], mode='lines', name='Ortalama Sıcaklık (°C)', yaxis='y2', line=dict(color='blue')))\n",
    "    \n",
    "    if 'show-emission' in emission_checkbox_value:\n",
    "        fig.add_trace(go.Scatter(x=filtered_data['year'], y=filtered_data['total_ghg'], mode='lines', name='Toplam Emisyon Oranı', yaxis='y3', line=dict(color='black')))\n",
    "    \n",
    "    fig.add_trace(go.Scatter(x=filtered_data['year'], y=filtered_data['sicaklik'], mode='lines', name='10 Yıl Bazlı Ortalama Sıcaklık (°C)', line=dict(color='red')))\n",
    "\n",
    "    fig.update_layout(\n",
    "        height=600,\n",
    "        xaxis_title=\"Yıl\",\n",
    "        yaxis_title=\"Sıcaklık (°C)\",\n",
    "        title_font=dict(size=30),\n",
    "        xaxis=dict(tickfont=dict(size=15), dtick=5),\n",
    "        yaxis=dict(tickfont=dict(size=15), dtick=1),\n",
    "        yaxis2=dict(tickfont=dict(size=15), overlaying='y', side='right'),  # Secondary Y-axis for average temperature\n",
    "        yaxis3=dict(tickfont=dict(size=15), overlaying='y', side='right', anchor='x', position=0.9),  # Secondary Y-axis for emissions\n",
    "        legend=dict(font=dict(size=12), x=0, y=1.2),\n",
    "    )\n",
    "\n",
    "    return fig\n",
    "\n",
    "# Run the app\n",
    "if __name__ == '__main__':\n",
    "    app.run_server(debug=True)\n"
   ]
  },
  {
   "cell_type": "code",
   "execution_count": null,
   "id": "37bd41c4-0a97-4a51-a2ec-213156840657",
   "metadata": {},
   "outputs": [],
   "source": []
  }
 ],
 "metadata": {
  "kernelspec": {
   "display_name": "Python 3 (ipykernel)",
   "language": "python",
   "name": "python3"
  },
  "language_info": {
   "codemirror_mode": {
    "name": "ipython",
    "version": 3
   },
   "file_extension": ".py",
   "mimetype": "text/x-python",
   "name": "python",
   "nbconvert_exporter": "python",
   "pygments_lexer": "ipython3",
   "version": "3.9.13"
  }
 },
 "nbformat": 4,
 "nbformat_minor": 5
}
